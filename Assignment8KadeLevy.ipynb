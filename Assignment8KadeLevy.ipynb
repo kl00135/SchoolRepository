{
 "cells": [
  {
   "cell_type": "code",
   "execution_count": 6,
   "id": "86c854ca",
   "metadata": {},
   "outputs": [
    {
     "data": {
      "text/plain": [
       "Index(['id', 'gender', 'age', 'hypertension', 'heart_disease', 'ever_married',\n",
       "       'work_type', 'Residence_type', 'avg_glucose_level', 'bmi',\n",
       "       'smoking_status', 'stroke'],\n",
       "      dtype='object')"
      ]
     },
     "execution_count": 6,
     "metadata": {},
     "output_type": "execute_result"
    }
   ],
   "source": [
    "import pandas as pd\n",
    "import numpy as np\n",
    "from sklearn.model_selection import train_test_split\n",
    "from sklearn.linear_model import LogisticRegression\n",
    "import matplotlib.pyplot as plt\n",
    "\n",
    "df = pd.read_csv('stroke.csv', na_values='?')\n",
    "df.columns"
   ]
  },
  {
   "cell_type": "markdown",
   "id": "ef3c362d",
   "metadata": {},
   "source": [
    "Question 1"
   ]
  },
  {
   "cell_type": "code",
   "execution_count": 7,
   "id": "46593004",
   "metadata": {},
   "outputs": [
    {
     "name": "stdout",
     "output_type": "stream",
     "text": [
      "<class 'pandas.core.frame.DataFrame'>\n",
      "RangeIndex: 1136 entries, 0 to 1135\n",
      "Data columns (total 12 columns):\n",
      " #   Column             Non-Null Count  Dtype  \n",
      "---  ------             --------------  -----  \n",
      " 0   id                 1136 non-null   int64  \n",
      " 1   gender             1136 non-null   object \n",
      " 2   age                1136 non-null   int64  \n",
      " 3   hypertension       1136 non-null   int64  \n",
      " 4   heart_disease      1136 non-null   int64  \n",
      " 5   ever_married       1136 non-null   object \n",
      " 6   work_type          1136 non-null   object \n",
      " 7   Residence_type     1136 non-null   object \n",
      " 8   avg_glucose_level  1136 non-null   float64\n",
      " 9   bmi                1084 non-null   float64\n",
      " 10  smoking_status     1136 non-null   object \n",
      " 11  stroke             1136 non-null   int64  \n",
      "dtypes: float64(2), int64(5), object(5)\n",
      "memory usage: 106.6+ KB\n"
     ]
    }
   ],
   "source": [
    "df.info()"
   ]
  },
  {
   "cell_type": "code",
   "execution_count": 8,
   "id": "23113352",
   "metadata": {},
   "outputs": [
    {
     "name": "stdout",
     "output_type": "stream",
     "text": [
      "<class 'pandas.core.frame.DataFrame'>\n",
      "RangeIndex: 1136 entries, 0 to 1135\n",
      "Data columns (total 10 columns):\n",
      " #   Column             Non-Null Count  Dtype  \n",
      "---  ------             --------------  -----  \n",
      " 0   gender             1136 non-null   object \n",
      " 1   age                1136 non-null   int64  \n",
      " 2   hypertension       1136 non-null   int64  \n",
      " 3   heart_disease      1136 non-null   int64  \n",
      " 4   ever_married       1136 non-null   object \n",
      " 5   work_type          1136 non-null   object \n",
      " 6   Residence_type     1136 non-null   object \n",
      " 7   avg_glucose_level  1136 non-null   float64\n",
      " 8   smoking_status     1136 non-null   object \n",
      " 9   stroke             1136 non-null   int64  \n",
      "dtypes: float64(1), int64(4), object(5)\n",
      "memory usage: 88.9+ KB\n"
     ]
    }
   ],
   "source": [
    "#Dropping null values\n",
    "df = df.drop(['id', 'bmi'], axis=1)\n",
    "df = df.dropna().copy()\n",
    "df.info() #recheck"
   ]
  },
  {
   "cell_type": "markdown",
   "id": "d4f7b054",
   "metadata": {},
   "source": [
    "Question 2"
   ]
  },
  {
   "cell_type": "code",
   "execution_count": 9,
   "id": "55b5be3a",
   "metadata": {},
   "outputs": [
    {
     "name": "stdout",
     "output_type": "stream",
     "text": [
      "Column: gender\n",
      "Female    642\n",
      "Male      494\n",
      "Name: gender, dtype: int64\n",
      "\n",
      "\n",
      "Column: age\n",
      "79    26\n",
      "57    24\n",
      "78    24\n",
      "52    23\n",
      "55    22\n",
      "      ..\n",
      "46     7\n",
      "6      7\n",
      "22     7\n",
      "12     6\n",
      "4      6\n",
      "Name: age, Length: 83, dtype: int64\n",
      "\n",
      "\n",
      "Column: hypertension\n",
      "0    1001\n",
      "1     135\n",
      "Name: hypertension, dtype: int64\n",
      "\n",
      "\n",
      "Column: heart_disease\n",
      "0    1058\n",
      "1      78\n",
      "Name: heart_disease, dtype: int64\n",
      "\n",
      "\n",
      "Column: ever_married\n",
      "Yes    769\n",
      "No     367\n",
      "Name: ever_married, dtype: int64\n",
      "\n",
      "\n",
      "Column: work_type\n",
      "Private          671\n",
      "Self-employed    174\n",
      "children         147\n",
      "Govt_job         142\n",
      "Never_worked       2\n",
      "Name: work_type, dtype: int64\n",
      "\n",
      "\n",
      "Column: Residence_type\n",
      "Urban    587\n",
      "Rural    549\n",
      "Name: Residence_type, dtype: int64\n",
      "\n",
      "\n",
      "Column: avg_glucose_level\n",
      "92.14     3\n",
      "94.92     2\n",
      "203.81    2\n",
      "72.09     2\n",
      "76.12     2\n",
      "         ..\n",
      "232.81    1\n",
      "100.09    1\n",
      "114.76    1\n",
      "77.77     1\n",
      "108.61    1\n",
      "Name: avg_glucose_level, Length: 1068, dtype: int64\n",
      "\n",
      "\n",
      "Column: smoking_status\n",
      "never smoked       416\n",
      "Unknown            352\n",
      "formerly smoked    204\n",
      "smokes             164\n",
      "Name: smoking_status, dtype: int64\n",
      "\n",
      "\n",
      "Column: stroke\n",
      "0    999\n",
      "1    137\n",
      "Name: stroke, dtype: int64\n",
      "\n",
      "\n"
     ]
    }
   ],
   "source": [
    "for column in df:\n",
    "    print(f\"Column: {column}\")\n",
    "    print(df[column].value_counts())\n",
    "    print(\"\\n\")"
   ]
  },
  {
   "cell_type": "code",
   "execution_count": 10,
   "id": "1af370d6",
   "metadata": {},
   "outputs": [],
   "source": [
    "#It seems that due to the majority of the columns being very unbalanced in terms of data, the target variable is unbalanced."
   ]
  },
  {
   "cell_type": "markdown",
   "id": "55a3636e",
   "metadata": {},
   "source": [
    "Question 3"
   ]
  },
  {
   "cell_type": "code",
   "execution_count": 11,
   "id": "359d61e3",
   "metadata": {},
   "outputs": [
    {
     "data": {
      "image/png": "[encoded data removed]",
      "text/plain": [
       "<Figure size 1200x800 with 4 Axes>"
      ]
     },
     "metadata": {},
     "output_type": "display_data"
    }
   ],
   "source": [
    "#Numerical Features vs. Target - Box Plot\n",
    "import seaborn as sns\n",
    "num_list=['age', 'hypertension', 'heart_disease', 'avg_glucose_level']\n",
    "fig=plt.figure(figsize=(12, 8))\n",
    "plt.tight_layout()\n",
    "\n",
    "for i in range(len(num_list)):\n",
    "    column=num_list[i]\n",
    "    sub=fig.add_subplot(2,3,i+1)\n",
    "    sns.boxplot(x='stroke',y=column, data=df)"
   ]
  },
  {
   "cell_type": "markdown",
   "id": "f352fc12",
   "metadata": {},
   "source": [
    "The biggest varience between two groups would go to the 'Age' group. The median is the farthest away from each other on both sides. The smallest would be in average glucose level. The average is very simmilar here."
   ]
  },
  {
   "cell_type": "markdown",
   "id": "6a016d28",
   "metadata": {},
   "source": [
    "Question 4"
   ]
  },
  {
   "cell_type": "code",
   "execution_count": 12,
   "id": "5001470d",
   "metadata": {},
   "outputs": [
    {
     "name": "stdout",
     "output_type": "stream",
     "text": [
      "[185.18556526  28.42106476  52.02345962  40.22990288]\n",
      "[0.         0.00000012 0.         0.        ]\n"
     ]
    }
   ],
   "source": [
    "#Using f-score and p-values\n",
    "\n",
    "from sklearn.feature_selection import SelectKBest, f_classif, chi2\n",
    "x = df.loc[:, ['age', 'hypertension', 'heart_disease', 'avg_glucose_level']]\n",
    "y = df.loc[:, 'stroke']\n",
    "\n",
    "fs = SelectKBest(score_func=f_classif, k='all')  \n",
    "bestFeatures = fs.fit(x, y)   \n",
    "np.set_printoptions(suppress = True)\n",
    "print(bestFeatures.scores_)    \n",
    "print(bestFeatures.pvalues_)\n"
   ]
  },
  {
   "cell_type": "markdown",
   "id": "3cf6f8f3",
   "metadata": {},
   "source": [
    "I beleieved 'heart_disease' should be removed, as it doesn't show a visual, however I realize now the data is simply not able to be measured numerically, and can be seen categorially."
   ]
  },
  {
   "cell_type": "markdown",
   "id": "bf23082e",
   "metadata": {},
   "source": [
    "Question 5"
   ]
  },
  {
   "cell_type": "code",
   "execution_count": 13,
   "id": "02e5ee11",
   "metadata": {},
   "outputs": [
    {
     "data": {
      "image/png": "[encoded data removed]",
      "text/plain": [
       "<Figure size 1800x1000 with 6 Axes>"
      ]
     },
     "metadata": {},
     "output_type": "display_data"
    }
   ],
   "source": [
    "# Define the list of categorical columns you want to plot\n",
    "fig = plt.figure(figsize=(18, 10))\n",
    "i = 0\n",
    "categorical_columns = ['gender', 'ever_married', 'work_type', 'Residence_type', 'smoking_status', 'heart_disease']\n",
    "\n",
    "for column in categorical_columns:\n",
    "    sub = fig.add_subplot(3, 5, i + 1)\n",
    "    sub.set_xlabel(column)\n",
    "    sns.countplot(data=df, x=column, hue='stroke')\n",
    "    i = i + 1\n",
    "\n",
    "plt.tight_layout()\n",
    "plt.show()"
   ]
  },
  {
   "cell_type": "markdown",
   "id": "9c967810",
   "metadata": {},
   "source": [
    "1. Do people of different genders have the same probability of getting stroke?  \n",
    "The data shows that females have a very slight chance over males to have a stroke. But this advantage is very miniscule, it's virtually almost unoticable. \n",
    "\n",
    "2. Do people with previous heart disease versas people with no heart disease have the same probability of getting stroke? \n",
    "The probability of getting a stroke is higher, and definetly not the same. "
   ]
  },
  {
   "cell_type": "markdown",
   "id": "aeda9859",
   "metadata": {},
   "source": [
    "Question 6"
   ]
  },
  {
   "cell_type": "code",
   "execution_count": 14,
   "id": "39526c5b",
   "metadata": {},
   "outputs": [
    {
     "name": "stdout",
     "output_type": "stream",
     "text": [
      "<class 'pandas.core.frame.DataFrame'>\n",
      "RangeIndex: 1136 entries, 0 to 1135\n",
      "Data columns (total 10 columns):\n",
      " #   Column             Non-Null Count  Dtype  \n",
      "---  ------             --------------  -----  \n",
      " 0   gender             1136 non-null   object \n",
      " 1   age                1136 non-null   int64  \n",
      " 2   hypertension       1136 non-null   int64  \n",
      " 3   heart_disease      1136 non-null   int64  \n",
      " 4   ever_married       1136 non-null   object \n",
      " 5   work_type          1136 non-null   object \n",
      " 6   Residence_type     1136 non-null   object \n",
      " 7   avg_glucose_level  1136 non-null   float64\n",
      " 8   smoking_status     1136 non-null   object \n",
      " 9   stroke             1136 non-null   int64  \n",
      "dtypes: float64(1), int64(4), object(5)\n",
      "memory usage: 88.9+ KB\n"
     ]
    }
   ],
   "source": [
    "df.info()"
   ]
  },
  {
   "cell_type": "code",
   "execution_count": 15,
   "id": "ce86152f",
   "metadata": {},
   "outputs": [
    {
     "name": "stdout",
     "output_type": "stream",
     "text": [
      "   gender  age  hypertension  heart_disease ever_married work_type  \\\n",
      "0  Female   31             0              0           No  Govt_job   \n",
      "1  Female   13             0              0           No  children   \n",
      "2    Male   18             0              0           No   Private   \n",
      "3  Female   65             0              0          Yes   Private   \n",
      "4    Male    4             0              0           No  children   \n",
      "\n",
      "  Residence_type  avg_glucose_level  stroke  smoking_status_numeric  \n",
      "0          Rural              70.66       0                     0.0  \n",
      "1          Rural              85.81       0                     NaN  \n",
      "2          Urban              60.56       0                     0.0  \n",
      "3          Urban             205.77       1                     2.0  \n",
      "4          Rural              90.42       0                     NaN  \n"
     ]
    }
   ],
   "source": [
    "#We're going to change one of the category types to a numeric type. to do so, we'll need to make our own map first for the variable to follow.\n",
    "def map_categories_to_numeric(category_column, mapping):\n",
    "    return category_column.map(mapping)\n",
    "\n",
    "smoking_status_mapping = {\n",
    "    'never smoked': 0,\n",
    "    'unknown': 1,\n",
    "    'formerly smoked': 2,\n",
    "    'smokes': 3\n",
    "}\n",
    "\n",
    "#Now we'll fit this map onto the new smoking status\n",
    "df['smoking_status_numeric'] = map_categories_to_numeric(df['smoking_status'], smoking_status_mapping)\n",
    "\n",
    "#Drop the original smoking_status, we don't need it afterwards. Smoking_status is now smoking_status_numeric!\n",
    "df.drop('smoking_status', axis=1, inplace=True)\n",
    "\n",
    "print(df.head())\n"
   ]
  },
  {
   "cell_type": "markdown",
   "id": "ff32e8f5",
   "metadata": {},
   "source": [
    "Question 7"
   ]
  },
  {
   "cell_type": "code",
   "execution_count": 16,
   "id": "b46d0c2d",
   "metadata": {},
   "outputs": [
    {
     "name": "stdout",
     "output_type": "stream",
     "text": [
      "[24.47433781 46.4078681   1.05209314 10.49744248  0.27427427  0.13316273\n",
      " 10.64534977 20.15915916  1.67404511]\n",
      "[0.00000075 0.         0.30502551 0.0011954  0.60047886 0.71517509\n",
      " 0.00110348 0.00000713 0.1957176 ]\n"
     ]
    }
   ],
   "source": [
    "#We are going to create a chi squared test for the category variables. Chi squares are \n",
    "categorical_columns = ['gender', 'hypertension', 'heart_disease', 'ever_married', 'work_type', 'Residence_type']\n",
    "x = pd.get_dummies(df[categorical_columns], drop_first=True)\n",
    "y = df['stroke']\n",
    "\n",
    "#I used what I found on the google slides to work this out\n",
    "chi = SelectKBest(score_func=chi2, k='all')\n",
    "\n",
    "#Data with chi squared test\n",
    "strokeFeatures = chi.fit(x, y)\n",
    "\n",
    "print(strokeFeatures.scores_)\n",
    "print(strokeFeatures.pvalues_)\n"
   ]
  },
  {
   "cell_type": "code",
   "execution_count": 17,
   "id": "989b9e05",
   "metadata": {},
   "outputs": [
    {
     "name": "stdout",
     "output_type": "stream",
     "text": [
      "<class 'pandas.core.frame.DataFrame'>\n",
      "Int64Index: 784 entries, 0 to 1135\n",
      "Data columns (total 9 columns):\n",
      " #   Column                  Non-Null Count  Dtype  \n",
      "---  ------                  --------------  -----  \n",
      " 0   gender                  784 non-null    object \n",
      " 1   age                     784 non-null    int64  \n",
      " 2   heart_disease           784 non-null    int64  \n",
      " 3   ever_married            784 non-null    object \n",
      " 4   work_type               784 non-null    object \n",
      " 5   Residence_type          784 non-null    object \n",
      " 6   avg_glucose_level       784 non-null    float64\n",
      " 7   stroke                  784 non-null    int64  \n",
      " 8   smoking_status_numeric  784 non-null    float64\n",
      "dtypes: float64(2), int64(3), object(4)\n",
      "memory usage: 61.2+ KB\n"
     ]
    }
   ],
   "source": [
    "#Hyper tension should be dropped for having a zero value.\n",
    "\n",
    "df = df.drop(['hypertension'], axis=1)\n",
    "df = df.dropna().copy()\n",
    "df.info() #recheck"
   ]
  },
  {
   "cell_type": "markdown",
   "id": "3acd4b9c",
   "metadata": {},
   "source": [
    "Question 8"
   ]
  },
  {
   "cell_type": "code",
   "execution_count": 18,
   "id": "144e665b",
   "metadata": {},
   "outputs": [
    {
     "name": "stdout",
     "output_type": "stream",
     "text": [
      "   age  heart_disease  avg_glucose_level  stroke  smoking_status_numeric  \\\n",
      "0   31              0              70.66       0                     0.0   \n",
      "2   18              0              60.56       0                     0.0   \n",
      "3   65              0             205.77       1                     2.0   \n",
      "5   28              0             131.80       0                     0.0   \n",
      "6   64              0             190.92       0                     0.0   \n",
      "\n",
      "   gender_Male  ever_married_Yes  work_type_Private  work_type_Self-employed  \\\n",
      "0            0                 0                  0                        0   \n",
      "2            1                 0                  1                        0   \n",
      "3            0                 1                  1                        0   \n",
      "5            0                 1                  1                        0   \n",
      "6            0                 1                  0                        1   \n",
      "\n",
      "   work_type_children  Residence_type_Urban  \n",
      "0                   0                     0  \n",
      "2                   0                     1  \n",
      "3                   0                     1  \n",
      "5                   0                     0  \n",
      "6                   0                     1  \n"
     ]
    }
   ],
   "source": [
    "#Plan to convert the category items to dummy variables\n",
    "categorical_columns = ['gender', 'ever_married', 'work_type', 'Residence_type']\n",
    "\n",
    "#Use Get_Dummies to convert \n",
    "df = pd.get_dummies(df, columns=categorical_columns, drop_first=True)\n",
    "\n",
    "print(df.head())\n"
   ]
  },
  {
   "cell_type": "markdown",
   "id": "77007876",
   "metadata": {},
   "source": [
    "Question 9"
   ]
  },
  {
   "cell_type": "code",
   "execution_count": 19,
   "id": "ad865cfb",
   "metadata": {},
   "outputs": [
    {
     "name": "stdout",
     "output_type": "stream",
     "text": [
      "x_train shape: (548, 10)\n",
      "x_test shape: (236, 10)\n",
      "y_train shape: (548,)\n",
      "y_test shape: (236,)\n"
     ]
    }
   ],
   "source": [
    "from sklearn.model_selection import train_test_split\n",
    "\n",
    "#Make sure y is stroke (target variable) and the x is everything but stroke\n",
    "x = df.drop('stroke', axis=1)  \n",
    "y = df['stroke']  \n",
    "\n",
    "#Splitting it between 80 and 20%\n",
    "x_train, x_test, y_train, y_test = train_test_split(x, y, test_size=0.3, random_state=0, stratify=y)\n",
    "\n",
    "\n",
    "print(\"x_train shape:\", x_train.shape)\n",
    "print(\"x_test shape:\", x_test.shape)\n",
    "print(\"y_train shape:\", y_train.shape)\n",
    "print(\"y_test shape:\", y_test.shape)\n"
   ]
  },
  {
   "cell_type": "markdown",
   "id": "c325f29f",
   "metadata": {},
   "source": [
    "Question 10"
   ]
  },
  {
   "cell_type": "code",
   "execution_count": 23,
   "id": "876e2d1e",
   "metadata": {},
   "outputs": [
    {
     "name": "stdout",
     "output_type": "stream",
     "text": [
      "Original training dataset shape: (548, 10)\n",
      "Oversampled training dataset shape: (938, 10)\n"
     ]
    }
   ],
   "source": [
    "#We need to import SMOTE to use the Over Sampling method\n",
    "from imblearn.over_sampling import SMOTE\n",
    "os = SMOTE(random_state=0)\n",
    "\n",
    "#Applying it to the dataset\n",
    "oversampled_x, oversampled_y = os.fit_resample(x_train, y_train)\n",
    "\n",
    "\n",
    "print(\"Original training dataset shape:\", x_train.shape)\n",
    "print(\"Oversampled training dataset shape:\", oversampled_x.shape)"
   ]
  },
  {
   "cell_type": "markdown",
   "id": "6d781d5f",
   "metadata": {},
   "source": [
    "Question 11"
   ]
  },
  {
   "cell_type": "code",
   "execution_count": 31,
   "id": "42836538",
   "metadata": {},
   "outputs": [
    {
     "name": "stderr",
     "output_type": "stream",
     "text": [
      "C:\\Users\\kadel\\anaconda3\\Lib\\site-packages\\sklearn\\linear_model\\_logistic.py:1183: FutureWarning: `penalty='none'`has been deprecated in 1.2 and will be removed in 1.4. To keep the past behaviour, set `penalty=None`.\n",
      "  warnings.warn(\n"
     ]
    },
    {
     "name": "stdout",
     "output_type": "stream",
     "text": [
      "Accuracy: 0.75\n",
      "Confusion Matrix:\n",
      "[[160  42]\n",
      " [ 17  17]]\n"
     ]
    }
   ],
   "source": [
    "from sklearn.metrics import accuracy_score, confusion_matrix\n",
    "\n",
    "#Build the Logistic Regression model\n",
    "logreg_model = LogisticRegression(penalty='none', max_iter=2000)\n",
    "logreg_model.fit(oversampled_x, oversampled_y.values.ravel())\n",
    "\n",
    "#Prediction for accuracy score\n",
    "y_pred = logreg_model.predict(x_test)\n",
    "\n",
    "#Accuracy score\n",
    "accuracy = accuracy_score(y_test, y_pred)\n",
    "print(\"Accuracy:\", accuracy)\n",
    "\n",
    "#Confusion Matrix\n",
    "confusion = confusion_matrix(y_test, y_pred)\n",
    "print(\"Confusion Matrix:\")\n",
    "print(confusion)\n"
   ]
  },
  {
   "cell_type": "markdown",
   "id": "d46a57ea",
   "metadata": {},
   "source": [
    "THIS IS AN INDIVIDUAL ASSIGNMENT. YOU MAY NOT DISCUSS THIS ASSIGNMENT WITH ANYONE WITHIN OR OUTSIDE THE CLASS (except the instructor).\n",
    "\n",
    "DO not discuss your approaches or your code with colleagues. There are many ways to implement this assignment, and it is extremely easy to spot code that has been inspired by someone else’s code and to identify unauthorized collaborations.\n",
    "If you choose to utilize something you find online, cite that resource, but DO NOT share that resource with anyone else. By submitting this assignment, you certify that no unauthorized assistance has been received or given in the completion of this work.\n",
    "\n",
    "Kade Levy"
   ]
  }
 ],
 "metadata": {
  "kernelspec": {
   "display_name": "Python 3 (ipykernel)",
   "language": "python",
   "name": "python3"
  },
  "language_info": {
   "codemirror_mode": {
    "name": "ipython",
    "version": 3
   },
   "file_extension": ".py",
   "mimetype": "text/x-python",
   "name": "python",
   "nbconvert_exporter": "python",
   "pygments_lexer": "ipython3",
   "version": "3.11.4"
  }
 },
 "nbformat": 4,
 "nbformat_minor": 5
}
