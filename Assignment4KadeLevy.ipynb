{
 "cells": [
  {
   "cell_type": "markdown",
   "id": "072b334e",
   "metadata": {},
   "source": [
    "Question 1\n"
   ]
  },
  {
   "cell_type": "markdown",
   "id": "b4b13e73",
   "metadata": {},
   "source": [
    "What are the key steps of a data cleaning pipeline?\n",
    "\n",
    "1. Drop unwanted features - You remove data that doesn't apply to the model, letting it work more efficently.\n",
    "2. Check the missing data - If you know what's missing, it will help you accurately analyze the data in full.\n",
    "3. Address missing values - Filling in the missing values eliminates gaps in the data.\n",
    "4. Remove duplicates - Duplicate data is already a bad practice, as it can copy over mistakes. Never duplicate data.\n",
    "5. Fix structual errors - Correct any errors that may have come from the cleaning. Some of these errors may include using the wrong data type. \n",
    "6. Check valid inputs for categorical features - Make sure there are no errors such as typos. Catagroical features only have a limited amounut of values.\n",
    "7. Identify Numerical Outliers - Make sure all numeric values are within the min and max amounts.\n",
    "\n"
   ]
  },
  {
   "cell_type": "markdown",
   "id": "b5171d02",
   "metadata": {},
   "source": [
    "Question 2"
   ]
  },
  {
   "cell_type": "code",
   "execution_count": 4,
   "id": "44392c0b",
   "metadata": {},
   "outputs": [],
   "source": [
    "import pandas as pd\n",
    "dataset = pd.read_csv('webautomation_coursera.csv')"
   ]
  },
  {
   "cell_type": "code",
   "execution_count": 5,
   "id": "f1a425b2",
   "metadata": {},
   "outputs": [
    {
     "name": "stdout",
     "output_type": "stream",
     "text": [
      "shape (242, 16)\n"
     ]
    }
   ],
   "source": [
    "print(\"shape\", dataset.shape)"
   ]
  },
  {
   "cell_type": "code",
   "execution_count": 6,
   "id": "f18925e9",
   "metadata": {},
   "outputs": [
    {
     "name": "stdout",
     "output_type": "stream",
     "text": [
      "                                                 url  \\\n",
      "0  https://www.coursera.org/specializations/netwo...   \n",
      "1        https://www.coursera.org/learn/2NAspeedNAit   \n",
      "2  https://www.coursera.org/learn/fundamentalsNAn...   \n",
      "3    https://www.coursera.org/learn/uxNAdesignNAjobs   \n",
      "4  https://www.coursera.org/learn/databaseNAappli...   \n",
      "5  https://www.coursera.org/learn/webNAdesignNAwi...   \n",
      "6  https://www.coursera.org/learn/wireframesNAlow...   \n",
      "7  https://www.coursera.org/learn/introductionNAp...   \n",
      "8  https://www.coursera.org/specializations/virtu...   \n",
      "9  https://www.coursera.org/specializations/cplus...   \n",
      "\n",
      "                                               title  \\\n",
      "0          Networking in Google Cloud Specialization   \n",
      "1  Two Speed IT: How Companies Can Surf the Digit...   \n",
      "2              Fundamentals of Network Communication   \n",
      "3  Design a User Experience for Social Good & Pre...   \n",
      "4              Building Database Applications in PHP   \n",
      "5               Web Design: Wireframes to Prototypes   \n",
      "6      Build Wireframes and LowNAFidelity Prototypes   \n",
      "7           Introduction to C# Programming and Unity   \n",
      "8                     Virtual Reality Specialization   \n",
      "9  C++ Programming for Unreal Game Development Sp...   \n",
      "\n",
      "  associated-university-institution-company             type  \\\n",
      "0                              Google Cloud  specializations   \n",
      "1                           CentraleSupélec           course   \n",
      "2             University of Colorado System           course   \n",
      "3                                    Google           course   \n",
      "4                    University of Michigan           course   \n",
      "5          California Institute of the Arts           course   \n",
      "6                                    Google           course   \n",
      "7             University of Colorado System           course   \n",
      "8                                       NaN  specializations   \n",
      "9             University of Colorado System  specializations   \n",
      "\n",
      "                                               image  \\\n",
      "0  https://s3.amazonaws.com/coursera_assets/meta_...   \n",
      "1  https://s3.amazonaws.com/coursera_assets/meta_...   \n",
      "2  https://s3.amazonaws.com/coursera_assets/meta_...   \n",
      "3  https://s3.amazonaws.com/coursera_assets/meta_...   \n",
      "4  https://s3.amazonaws.com/coursera_assets/meta_...   \n",
      "5  https://s3.amazonaws.com/coursera_assets/meta_...   \n",
      "6  https://s3.amazonaws.com/coursera_assets/meta_...   \n",
      "7  https://s3.amazonaws.com/coursera_assets/meta_...   \n",
      "8  https://s3.amazonaws.com/coursera_assets/meta_...   \n",
      "9  https://s3.amazonaws.com/coursera_assets/meta_...   \n",
      "\n",
      "            category-subject-area certificate-is-available  \\\n",
      "0                      Networking    Shareable Certificate   \n",
      "1             Business Essentials    Shareable Certificate   \n",
      "2  Computer Security and Networks    Shareable Certificate   \n",
      "3              Design and Product    Shareable Certificate   \n",
      "4      Mobile and Web Development    Shareable Certificate   \n",
      "5                   Music and Art    Shareable Certificate   \n",
      "6              Design and Product    Shareable Certificate   \n",
      "7            Software Development    Shareable Certificate   \n",
      "8              Design and Product    Shareable Certificate   \n",
      "9            Software Development    Shareable Certificate   \n",
      "\n",
      "                                         description  \\\n",
      "0  This specialization gives participants broad s...   \n",
      "1  Transform or disappear, the Darwinism of IT: I...   \n",
      "2  In this course, we trace the evolution of netw...   \n",
      "3  Design a User Experience for Social Good and P...   \n",
      "4  In this course, we'll look at the object orien...   \n",
      "5  This course is focused on the application of t...   \n",
      "6  Build Wireframes and LowNAFidelity Prototypes ...   \n",
      "7  This course is all about starting to learn how...   \n",
      "8                       This specialisation from the   \n",
      "9  This Specialization is intended for intermedia...   \n",
      "\n",
      "                             duration language               level  \\\n",
      "0  Approximately 4 months to complete  English  Intermediate Level   \n",
      "1        Approx. 14 hours to complete  English                 NaN   \n",
      "2        Approx. 15 hours to complete  English  Intermediate Level   \n",
      "3        Approx. 71 hours to complete  English      Beginner Level   \n",
      "4        Approx. 24 hours to complete  English  Intermediate Level   \n",
      "5        Approx. 41 hours to complete  English  Intermediate Level   \n",
      "6        Approx. 22 hours to complete  English      Beginner Level   \n",
      "7        Approx. 19 hours to complete  English      Beginner Level   \n",
      "8  Approximately 6 months to complete  English      Beginner Level   \n",
      "9  Approximately 4 months to complete  English  Intermediate Level   \n",
      "\n",
      "   prerequisites price  rating  \\\n",
      "0            NaN  free     4.8   \n",
      "1            NaN  free     4.3   \n",
      "2            NaN  free     4.6   \n",
      "3            NaN  free     4.8   \n",
      "4            NaN  free     4.9   \n",
      "5            NaN  free     4.9   \n",
      "6            NaN  free     4.9   \n",
      "7            NaN  free     4.6   \n",
      "8            NaN  free     4.7   \n",
      "9            NaN  free     4.6   \n",
      "\n",
      "                                            syllabus             timestamp  \n",
      "0                                                NaN  2022-07-29T23:58:34Z  \n",
      "1  Introduction ~.~ Start here! ~.~ IT and the CI...  2022-07-29T23:58:34Z  \n",
      "2  Communication Networks and Services ~.~ This m...  2022-07-29T23:58:54Z  \n",
      "3  Starting the UX design process: empathize, def...  2022-07-29T23:59:20Z  \n",
      "4  PHP Objects ~.~ We look at the object oriented...  2022-07-29T23:59:20Z  \n",
      "5  Not Getting Caught up in the Details: Wirefram...  2022-07-29T23:59:20Z  \n",
      "6  Storyboarding and wireframing ~.~ Welcome to t...  2022-07-29T23:59:51Z  \n",
      "7  Starting to Program ~.~ In this module, you'll...  2022-07-30T00:00:07Z  \n",
      "8                                                NaN  2022-07-30T00:00:07Z  \n",
      "9                                                NaN  2022-07-30T00:00:07Z  \n"
     ]
    }
   ],
   "source": [
    "print(dataset.head(10))"
   ]
  },
  {
   "cell_type": "code",
   "execution_count": 7,
   "id": "9d78d6f7",
   "metadata": {},
   "outputs": [
    {
     "name": "stdout",
     "output_type": "stream",
     "text": [
      "url                                           object\n",
      "title                                         object\n",
      "associated-university-institution-company     object\n",
      "type                                          object\n",
      "image                                         object\n",
      "category-subject-area                         object\n",
      "certificate-is-available                      object\n",
      "description                                   object\n",
      "duration                                      object\n",
      "language                                      object\n",
      "level                                         object\n",
      "prerequisites                                float64\n",
      "price                                         object\n",
      "rating                                       float64\n",
      "syllabus                                      object\n",
      "timestamp                                     object\n",
      "dtype: object\n"
     ]
    }
   ],
   "source": [
    "print(dataset.dtypes)"
   ]
  },
  {
   "cell_type": "markdown",
   "id": "4d0f8904",
   "metadata": {},
   "source": [
    "Question 3"
   ]
  },
  {
   "cell_type": "code",
   "execution_count": 8,
   "id": "bc97f5bc",
   "metadata": {},
   "outputs": [
    {
     "name": "stdout",
     "output_type": "stream",
     "text": [
      "(242, 12)\n"
     ]
    }
   ],
   "source": [
    "dataset = pd.read_csv('webautomation_coursera.csv')\n",
    "\n",
    "remove = ['image', 'syllabus', 'description', 'prerequisites']\n",
    "dataset.drop(remove, inplace=True, axis=1)\n",
    "\n",
    "print(dataset.shape)\n"
   ]
  },
  {
   "cell_type": "markdown",
   "id": "1485d633",
   "metadata": {},
   "source": [
    "Question 4"
   ]
  },
  {
   "cell_type": "code",
   "execution_count": 9,
   "id": "581fde43",
   "metadata": {},
   "outputs": [],
   "source": [
    "#First, we take all of the data that's considered null.\n",
    "missing_values = dataset.isnull().sum()"
   ]
  },
  {
   "cell_type": "code",
   "execution_count": 10,
   "id": "2ead2e91",
   "metadata": {},
   "outputs": [],
   "source": [
    "#Then, we get it's percentage for each part of dataset.\n",
    "percentage_missing = (missing_values / len(dataset)) * 100"
   ]
  },
  {
   "cell_type": "code",
   "execution_count": 11,
   "id": "981760aa",
   "metadata": {},
   "outputs": [],
   "source": [
    "missing_data = pd.DataFrame({\n",
    "    'Missing Values': missing_values,\n",
    "    'Percentage Missing': percentage_missing\n",
    "})"
   ]
  },
  {
   "cell_type": "code",
   "execution_count": 12,
   "id": "b2f0eb6d",
   "metadata": {},
   "outputs": [
    {
     "name": "stdout",
     "output_type": "stream",
     "text": [
      "                                           Missing Values  Percentage Missing\n",
      "url                                                     0            0.000000\n",
      "title                                                   3            1.239669\n",
      "associated-university-institution-company              19            7.851240\n",
      "type                                                    1            0.413223\n",
      "category-subject-area                                   4            1.652893\n",
      "certificate-is-available                               24            9.917355\n",
      "duration                                               20            8.264463\n",
      "language                                               20            8.264463\n",
      "level                                                  55           22.727273\n",
      "price                                                  20            8.264463\n",
      "rating                                                 21            8.677686\n",
      "timestamp                                               0            0.000000\n"
     ]
    }
   ],
   "source": [
    "print(missing_data)"
   ]
  },
  {
   "cell_type": "markdown",
   "id": "8383eb74",
   "metadata": {},
   "source": [
    "Question 5"
   ]
  },
  {
   "cell_type": "code",
   "execution_count": 13,
   "id": "d6256a92",
   "metadata": {},
   "outputs": [],
   "source": [
    "#Replacing the missing language value with 'English'\n",
    "dataset['language'].fillna('English', inplace=True)"
   ]
  },
  {
   "cell_type": "code",
   "execution_count": 14,
   "id": "44abd83d",
   "metadata": {},
   "outputs": [],
   "source": [
    "#Deleting the missing rating row\n",
    "dataset.dropna(subset=['rating'], inplace=True)"
   ]
  },
  {
   "cell_type": "code",
   "execution_count": 15,
   "id": "18180550",
   "metadata": {},
   "outputs": [],
   "source": [
    "#Deleting the rows that have more than three missing values\n",
    "dataset.dropna(thresh=dataset.shape[1] - 3, inplace=True)"
   ]
  },
  {
   "cell_type": "code",
   "execution_count": 16,
   "id": "200e28e6",
   "metadata": {},
   "outputs": [
    {
     "name": "stdout",
     "output_type": "stream",
     "text": [
      "shape (220, 12)\n"
     ]
    }
   ],
   "source": [
    "print(\"shape\", dataset.shape)"
   ]
  },
  {
   "cell_type": "markdown",
   "id": "704879ea",
   "metadata": {},
   "source": [
    "Question 6"
   ]
  },
  {
   "cell_type": "code",
   "execution_count": 17,
   "id": "b798a32a",
   "metadata": {},
   "outputs": [],
   "source": [
    "#Set up for comparison\n",
    "pre_duplication = dataset.shape[0]\n",
    "#Checking for duplicates \n",
    "dataset.drop_duplicates(subset='url', keep='last', inplace=True)\n",
    "#Set up for comparison\n",
    "post_duplication = dataset.shape[0]"
   ]
  },
  {
   "cell_type": "code",
   "execution_count": 18,
   "id": "07b4f95a",
   "metadata": {},
   "outputs": [
    {
     "name": "stdout",
     "output_type": "stream",
     "text": [
      "Duplicates removed: 53\n",
      "(167, 12)\n"
     ]
    }
   ],
   "source": [
    "duplicates_removed = pre_duplication - post_duplication\n",
    "print(\"Duplicates removed:\", duplicates_removed)\n",
    "print(dataset.shape)"
   ]
  },
  {
   "cell_type": "markdown",
   "id": "e7b9475d",
   "metadata": {},
   "source": [
    "Question 7"
   ]
  },
  {
   "cell_type": "code",
   "execution_count": 19,
   "id": "0c1cdca8",
   "metadata": {},
   "outputs": [
    {
     "name": "stdout",
     "output_type": "stream",
     "text": [
      "url                                           object\n",
      "title                                         object\n",
      "associated-university-institution-company     object\n",
      "type                                          object\n",
      "category-subject-area                         object\n",
      "certificate-is-available                      object\n",
      "duration                                      object\n",
      "language                                      object\n",
      "level                                         object\n",
      "price                                         object\n",
      "rating                                       float64\n",
      "timestamp                                     object\n",
      "dtype: object\n"
     ]
    }
   ],
   "source": [
    "print(dataset.dtypes)"
   ]
  },
  {
   "cell_type": "code",
   "execution_count": 20,
   "id": "069fcb58",
   "metadata": {},
   "outputs": [
    {
     "name": "stdout",
     "output_type": "stream",
     "text": [
      "url                                                       object\n",
      "title                                                     object\n",
      "associated-university-institution-company                 object\n",
      "type                                                      object\n",
      "category-subject-area                                     object\n",
      "certificate-is-available                                  object\n",
      "duration                                                  object\n",
      "language                                                  object\n",
      "level                                                     object\n",
      "price                                                     object\n",
      "rating                                                   float64\n",
      "timestamp                                    datetime64[ns, UTC]\n",
      "dtype: object\n"
     ]
    }
   ],
   "source": [
    "dataset['timestamp'] = pd.to_datetime(dataset['timestamp'])\n",
    "    \n",
    "print(dataset.dtypes)"
   ]
  },
  {
   "cell_type": "code",
   "execution_count": 21,
   "id": "c2a4efde",
   "metadata": {},
   "outputs": [],
   "source": [
    "#timestamp is now a datetime object."
   ]
  },
  {
   "cell_type": "markdown",
   "id": "6dced6b1",
   "metadata": {},
   "source": [
    "Question 8"
   ]
  },
  {
   "cell_type": "code",
   "execution_count": 22,
   "id": "e05e0ff3",
   "metadata": {},
   "outputs": [],
   "source": [
    "#Renaming\n",
    "dataset.rename(columns={'associated-university-institution-company': 'institution'}, inplace=True)"
   ]
  },
  {
   "cell_type": "code",
   "execution_count": 23,
   "id": "ad78ca0f",
   "metadata": {},
   "outputs": [
    {
     "name": "stdout",
     "output_type": "stream",
     "text": [
      "<bound method NDFrame.head of                                                    url  \\\n",
      "1          https://www.coursera.org/learn/2NAspeedNAit   \n",
      "2    https://www.coursera.org/learn/fundamentalsNAn...   \n",
      "3      https://www.coursera.org/learn/uxNAdesignNAjobs   \n",
      "4    https://www.coursera.org/learn/databaseNAappli...   \n",
      "5    https://www.coursera.org/learn/webNAdesignNAwi...   \n",
      "..                                                 ...   \n",
      "234  https://www.coursera.org/specializations/dataN...   \n",
      "235  https://www.coursera.org/professionalNAcertifi...   \n",
      "239  https://www.coursera.org/specializations/jhuNA...   \n",
      "240  https://www.coursera.org/learn/physicalNAchemi...   \n",
      "241    https://www.coursera.org/learn/basicNAchemistry   \n",
      "\n",
      "                                                 title  \\\n",
      "1    Two Speed IT: How Companies Can Surf the Digit...   \n",
      "2                Fundamentals of Network Communication   \n",
      "3    Design a User Experience for Social Good & Pre...   \n",
      "4                Building Database Applications in PHP   \n",
      "5                 Web Design: Wireframes to Prototypes   \n",
      "..                                                 ...   \n",
      "234   Data Science: Foundations using R Specialization   \n",
      "235          IBM Data Science Professional Certificate   \n",
      "239                        Data Science Specialization   \n",
      "240                 Introduction to Physical Chemistry   \n",
      "241  Introduction to Chemistry:  Structures and Sol...   \n",
      "\n",
      "                          institution                       type  \\\n",
      "1                     CentraleSupélec                     course   \n",
      "2       University of Colorado System                     course   \n",
      "3                              Google                     course   \n",
      "4              University of Michigan                     course   \n",
      "5    California Institute of the Arts                     course   \n",
      "..                                ...                        ...   \n",
      "234                               NaN            specializations   \n",
      "235                IBM Skills Network  professional certificates   \n",
      "239                               NaN            specializations   \n",
      "240          University of Manchester                     course   \n",
      "241                   Duke University                     course   \n",
      "\n",
      "              category-subject-area certificate-is-available  \\\n",
      "1               Business Essentials    Shareable Certificate   \n",
      "2    Computer Security and Networks    Shareable Certificate   \n",
      "3                Design and Product    Shareable Certificate   \n",
      "4        Mobile and Web Development    Shareable Certificate   \n",
      "5                     Music and Art    Shareable Certificate   \n",
      "..                              ...                      ...   \n",
      "234                   Data Analysis    Shareable Certificate   \n",
      "235                   Data Analysis    Shareable Certificate   \n",
      "239                   Data Analysis    Shareable Certificate   \n",
      "240                       Chemistry    Shareable Certificate   \n",
      "241                       Chemistry    Shareable Certificate   \n",
      "\n",
      "                                duration language               level price  \\\n",
      "1           Approx. 14 hours to complete  English                 NaN  free   \n",
      "2           Approx. 15 hours to complete  English  Intermediate Level  free   \n",
      "3           Approx. 71 hours to complete  English      Beginner Level  free   \n",
      "4           Approx. 24 hours to complete  English  Intermediate Level  free   \n",
      "5           Approx. 41 hours to complete  English  Intermediate Level  free   \n",
      "..                                   ...      ...                 ...   ...   \n",
      "234   Approximately 5 months to complete  English      Beginner Level  free   \n",
      "235  Approximately 11 months to complete  English      Beginner Level  free   \n",
      "239  Approximately 11 months to complete  English      Beginner Level  free   \n",
      "240         Approx. 19 hours to complete  English                 NaN  free   \n",
      "241         Approx. 17 hours to complete  English      Beginner Level  free   \n",
      "\n",
      "     rating                 timestamp  \n",
      "1       4.3 2022-07-29 23:58:34+00:00  \n",
      "2       4.6 2022-07-29 23:58:54+00:00  \n",
      "3       4.8 2022-07-29 23:59:20+00:00  \n",
      "4       4.9 2022-07-29 23:59:20+00:00  \n",
      "5       4.9 2022-07-29 23:59:20+00:00  \n",
      "..      ...                       ...  \n",
      "234     4.6 2022-07-30 00:45:32+00:00  \n",
      "235     4.6 2022-07-30 00:45:32+00:00  \n",
      "239     4.5 2022-07-30 00:45:32+00:00  \n",
      "240     4.7 2022-07-30 00:45:41+00:00  \n",
      "241     4.7 2022-07-30 00:45:42+00:00  \n",
      "\n",
      "[167 rows x 12 columns]>\n"
     ]
    }
   ],
   "source": [
    "print(dataset.head)"
   ]
  },
  {
   "cell_type": "code",
   "execution_count": 24,
   "id": "9e76191f",
   "metadata": {},
   "outputs": [],
   "source": [
    "#Merging objects in institution\n",
    "institution_mapping = {\n",
    "    'Google Cloud': 'Google'\n",
    "}"
   ]
  },
  {
   "cell_type": "code",
   "execution_count": 25,
   "id": "cbd0ef75",
   "metadata": {},
   "outputs": [],
   "source": [
    "dataset['institution'] = dataset['institution'].replace(institution_mapping)"
   ]
  },
  {
   "cell_type": "code",
   "execution_count": 26,
   "id": "5b2ff95b",
   "metadata": {},
   "outputs": [],
   "source": [
    "#Merging objects in type\n",
    "type_mapping = {\n",
    "    'professionalNAcertifications': 'professional certificates'\n",
    "}"
   ]
  },
  {
   "cell_type": "code",
   "execution_count": 27,
   "id": "12089ba9",
   "metadata": {},
   "outputs": [],
   "source": [
    "dataset['type'] = dataset['type'].replace(type_mapping)"
   ]
  },
  {
   "cell_type": "code",
   "execution_count": 28,
   "id": "d1139602",
   "metadata": {},
   "outputs": [
    {
     "name": "stdout",
     "output_type": "stream",
     "text": [
      "Unique values in 'institution': ['CentraleSupélec' 'University of Colorado System' 'Google'\n",
      " 'University of Michigan' 'California Institute of the Arts' nan\n",
      " 'Michigan State University' 'University of Virginia' 'IBM Skills Network'\n",
      " 'Advancing Women in Tech' 'University of Alberta'\n",
      " 'University of Minnesota' 'University of California San Diego'\n",
      " 'Amazon Web Services' 'Palo Alto Networks' 'Oracle' 'Juniper Networks'\n",
      " 'Knowledge Accelerators' 'DeepLearning.AI' 'New York University' '(ISC)²'\n",
      " 'IBM' 'Princeton University' 'Stanford University'\n",
      " 'The Hong Kong University of Science and Technology'\n",
      " 'Universidad de los Andes' 'University of Pennsylvania'\n",
      " 'Imperial College London' 'University of California, Davis' 'Meta'\n",
      " 'Universidad Austral' 'Alibaba Cloud Academy' 'Duke University' 'GitLab'\n",
      " 'University of California, Irvine' 'University System of Georgia'\n",
      " 'University of Toronto' 'Georgia Institute of Technology'\n",
      " 'Macquarie University' 'Pontificia Universidad Católica de Chile'\n",
      " 'McMaster University' 'University of Colorado Boulder'\n",
      " 'Politecnico di Milano' 'LudwigNAMaximiliansNAUniversität München (LMU)'\n",
      " 'University of Geneva' 'University of Amsterdam'\n",
      " 'University of Maryland, College Park' 'University of Kentucky'\n",
      " 'Technical University of Denmark (DTU)' 'École Polytechnique'\n",
      " 'Rutgers the State University of New Jersey' 'The University of Sydney'\n",
      " 'University of Arizona' 'Universidade de São Paulo'\n",
      " 'University of Manchester']\n",
      "Unique values in 'type': ['course' 'specializations' 'professional certificates'\n",
      " 'Professional certificates']\n"
     ]
    }
   ],
   "source": [
    "print(\"Unique values in 'institution':\", dataset['institution'].unique())\n",
    "print(\"Unique values in 'type':\", dataset['type'].unique())"
   ]
  },
  {
   "cell_type": "code",
   "execution_count": 29,
   "id": "3f6153ef",
   "metadata": {},
   "outputs": [
    {
     "name": "stdout",
     "output_type": "stream",
     "text": [
      "<bound method NDFrame.head of                                                    url  \\\n",
      "1          https://www.coursera.org/learn/2NAspeedNAit   \n",
      "2    https://www.coursera.org/learn/fundamentalsNAn...   \n",
      "3      https://www.coursera.org/learn/uxNAdesignNAjobs   \n",
      "4    https://www.coursera.org/learn/databaseNAappli...   \n",
      "5    https://www.coursera.org/learn/webNAdesignNAwi...   \n",
      "..                                                 ...   \n",
      "234  https://www.coursera.org/specializations/dataN...   \n",
      "235  https://www.coursera.org/professionalNAcertifi...   \n",
      "239  https://www.coursera.org/specializations/jhuNA...   \n",
      "240  https://www.coursera.org/learn/physicalNAchemi...   \n",
      "241    https://www.coursera.org/learn/basicNAchemistry   \n",
      "\n",
      "                                                 title  \\\n",
      "1    Two Speed IT: How Companies Can Surf the Digit...   \n",
      "2                Fundamentals of Network Communication   \n",
      "3    Design a User Experience for Social Good & Pre...   \n",
      "4                Building Database Applications in PHP   \n",
      "5                 Web Design: Wireframes to Prototypes   \n",
      "..                                                 ...   \n",
      "234   Data Science: Foundations using R Specialization   \n",
      "235          IBM Data Science Professional Certificate   \n",
      "239                        Data Science Specialization   \n",
      "240                 Introduction to Physical Chemistry   \n",
      "241  Introduction to Chemistry:  Structures and Sol...   \n",
      "\n",
      "                          institution                       type  \\\n",
      "1                     CentraleSupélec                     course   \n",
      "2       University of Colorado System                     course   \n",
      "3                              Google                     course   \n",
      "4              University of Michigan                     course   \n",
      "5    California Institute of the Arts                     course   \n",
      "..                                ...                        ...   \n",
      "234                               NaN            specializations   \n",
      "235                IBM Skills Network  professional certificates   \n",
      "239                               NaN            specializations   \n",
      "240          University of Manchester                     course   \n",
      "241                   Duke University                     course   \n",
      "\n",
      "              category-subject-area certificate-is-available  \\\n",
      "1               Business Essentials    Shareable Certificate   \n",
      "2    Computer Security and Networks    Shareable Certificate   \n",
      "3                Design and Product    Shareable Certificate   \n",
      "4        Mobile and Web Development    Shareable Certificate   \n",
      "5                     Music and Art    Shareable Certificate   \n",
      "..                              ...                      ...   \n",
      "234                   Data Analysis    Shareable Certificate   \n",
      "235                   Data Analysis    Shareable Certificate   \n",
      "239                   Data Analysis    Shareable Certificate   \n",
      "240                       Chemistry    Shareable Certificate   \n",
      "241                       Chemistry    Shareable Certificate   \n",
      "\n",
      "                                duration language               level price  \\\n",
      "1           Approx. 14 hours to complete  English                 NaN  free   \n",
      "2           Approx. 15 hours to complete  English  Intermediate Level  free   \n",
      "3           Approx. 71 hours to complete  English      Beginner Level  free   \n",
      "4           Approx. 24 hours to complete  English  Intermediate Level  free   \n",
      "5           Approx. 41 hours to complete  English  Intermediate Level  free   \n",
      "..                                   ...      ...                 ...   ...   \n",
      "234   Approximately 5 months to complete  English      Beginner Level  free   \n",
      "235  Approximately 11 months to complete  English      Beginner Level  free   \n",
      "239  Approximately 11 months to complete  English      Beginner Level  free   \n",
      "240         Approx. 19 hours to complete  English                 NaN  free   \n",
      "241         Approx. 17 hours to complete  English      Beginner Level  free   \n",
      "\n",
      "     rating                 timestamp  \n",
      "1       4.3 2022-07-29 23:58:34+00:00  \n",
      "2       4.6 2022-07-29 23:58:54+00:00  \n",
      "3       4.8 2022-07-29 23:59:20+00:00  \n",
      "4       4.9 2022-07-29 23:59:20+00:00  \n",
      "5       4.9 2022-07-29 23:59:20+00:00  \n",
      "..      ...                       ...  \n",
      "234     4.6 2022-07-30 00:45:32+00:00  \n",
      "235     4.6 2022-07-30 00:45:32+00:00  \n",
      "239     4.5 2022-07-30 00:45:32+00:00  \n",
      "240     4.7 2022-07-30 00:45:41+00:00  \n",
      "241     4.7 2022-07-30 00:45:42+00:00  \n",
      "\n",
      "[167 rows x 12 columns]>\n"
     ]
    }
   ],
   "source": [
    "print(dataset.head)"
   ]
  },
  {
   "cell_type": "markdown",
   "id": "3d8cfcf1",
   "metadata": {},
   "source": [
    "Question 9"
   ]
  },
  {
   "cell_type": "code",
   "execution_count": 30,
   "id": "845f45c0",
   "metadata": {},
   "outputs": [],
   "source": [
    "#Check for outliers throughout rating\n",
    "rating_outliers = dataset[(dataset['rating'] < 0) | (dataset['rating'] > 5)]\n",
    "\n",
    "#Delete the outliers\n",
    "dataset = dataset[(dataset['rating'] >= 0) & (dataset['rating'] <= 5)]"
   ]
  },
  {
   "cell_type": "code",
   "execution_count": 43,
   "id": "2aa2bae3",
   "metadata": {
    "scrolled": true
   },
   "outputs": [
    {
     "data": {
      "image/png": "[encoded data removed]",
      "text/plain": [
       "<Figure size 640x480 with 1 Axes>"
      ]
     },
     "metadata": {},
     "output_type": "display_data"
    }
   ],
   "source": [
    "from matplotlib import pyplot as plt\n",
    "dataset.boxplot(column=['rating'])\n",
    "plt.show()"
   ]
  },
  {
   "cell_type": "markdown",
   "id": "e3051f2d",
   "metadata": {},
   "source": [
    "Question 10"
   ]
  },
  {
   "cell_type": "code",
   "execution_count": 40,
   "id": "1dcd6c7a",
   "metadata": {},
   "outputs": [],
   "source": [
    "#Using aggregation and the groupby function, we can find the average \n",
    "average_rating_institution = dataset.groupby('institution')['rating'].mean()"
   ]
  },
  {
   "cell_type": "code",
   "execution_count": 41,
   "id": "b0a4f208",
   "metadata": {},
   "outputs": [],
   "source": [
    "#sorting\n",
    "average_rating_institution = average_rating_institution.sort_values(ascending=False).head(5)"
   ]
  },
  {
   "cell_type": "code",
   "execution_count": 42,
   "id": "682605db",
   "metadata": {},
   "outputs": [
    {
     "name": "stdout",
     "output_type": "stream",
     "text": [
      "institution\n",
      "Universidad Austral                                   4.90\n",
      "Universidade de São Paulo                             4.90\n",
      "Politecnico di Milano                                 4.90\n",
      "Universidad de los Andes                              4.90\n",
      "The Hong Kong University of Science and Technology    4.86\n",
      "Name: rating, dtype: float64\n"
     ]
    }
   ],
   "source": [
    "print(average_rating_institution)"
   ]
  },
  {
   "cell_type": "markdown",
   "id": "87a8035d",
   "metadata": {},
   "source": [
    "Question 11"
   ]
  },
  {
   "cell_type": "code",
   "execution_count": 33,
   "id": "a80f6b0f",
   "metadata": {},
   "outputs": [],
   "source": [
    "#Showing the amount of courses offered by each institution \n",
    "courses_per_institution = dataset.groupby('institution').size()"
   ]
  },
  {
   "cell_type": "code",
   "execution_count": 34,
   "id": "12ed97b7",
   "metadata": {},
   "outputs": [],
   "source": [
    "#Sorting\n",
    "courses_per_institution  = courses_per_institution.sort_values(ascending=False).head(5)"
   ]
  },
  {
   "cell_type": "code",
   "execution_count": 35,
   "id": "a845a8e3",
   "metadata": {},
   "outputs": [
    {
     "name": "stdout",
     "output_type": "stream",
     "text": [
      "institution\n",
      "Google                           37\n",
      "IBM Skills Network               13\n",
      "University of Michigan            7\n",
      "University of Colorado System     7\n",
      "Macquarie University              6\n",
      "dtype: int64\n"
     ]
    }
   ],
   "source": [
    "print(courses_per_institution)"
   ]
  },
  {
   "cell_type": "markdown",
   "id": "9aeabcd7",
   "metadata": {},
   "source": [
    "Question 12\n"
   ]
  },
  {
   "cell_type": "code",
   "execution_count": 36,
   "id": "abe563b9",
   "metadata": {},
   "outputs": [],
   "source": [
    "#Using a pivot table, we can set all of the margins we need for our different levels of instituions\n",
    "pivot_table = pd.pivot_table(dataset, index='institution', columns='level', values='title', aggfunc='count', fill_value=0)"
   ]
  },
  {
   "cell_type": "code",
   "execution_count": 37,
   "id": "08a68dee",
   "metadata": {},
   "outputs": [],
   "source": [
    "advanced = pivot_table['Advanced Level'].idxmax()\n",
    "intermediate = pivot_table['Intermediate Level'].idxmax()\n",
    "beginner = pivot_table['Beginner Level'].idxmax()"
   ]
  },
  {
   "cell_type": "code",
   "execution_count": 38,
   "id": "e9ffef17",
   "metadata": {},
   "outputs": [
    {
     "name": "stdout",
     "output_type": "stream",
     "text": [
      "level                                               Advanced Level  \\\n",
      "institution                                                          \n",
      "(ISC)²                                                           0   \n",
      "Advancing Women in Tech                                          0   \n",
      "Alibaba Cloud Academy                                            0   \n",
      "Amazon Web Services                                              0   \n",
      "California Institute of the Arts                                 0   \n",
      "DeepLearning.AI                                                  1   \n",
      "Duke University                                                  0   \n",
      "Georgia Institute of Technology                                  0   \n",
      "GitLab                                                           0   \n",
      "Google                                                           0   \n",
      "IBM                                                              0   \n",
      "IBM Skills Network                                               0   \n",
      "Imperial College London                                          0   \n",
      "Juniper Networks                                                 0   \n",
      "Knowledge Accelerators                                           0   \n",
      "Macquarie University                                             0   \n",
      "McMaster University                                              0   \n",
      "Meta                                                             0   \n",
      "Michigan State University                                        0   \n",
      "New York University                                              0   \n",
      "Palo Alto Networks                                               0   \n",
      "Politecnico di Milano                                            0   \n",
      "Pontificia Universidad Católica de Chile                         0   \n",
      "Rutgers the State University of New Jersey                       0   \n",
      "Stanford University                                              0   \n",
      "The Hong Kong University of Science and Technology               0   \n",
      "The University of Sydney                                         0   \n",
      "Universidad Austral                                              0   \n",
      "Universidad de los Andes                                         0   \n",
      "Universidade de São Paulo                                        0   \n",
      "University of Alberta                                            0   \n",
      "University of Arizona                                            0   \n",
      "University of California San Diego                               0   \n",
      "University of California, Davis                                  0   \n",
      "University of Colorado Boulder                                   2   \n",
      "University of Colorado System                                    0   \n",
      "University of Maryland, College Park                             0   \n",
      "University of Michigan                                           0   \n",
      "University of Minnesota                                          0   \n",
      "University of Toronto                                            0   \n",
      "University of Virginia                                           0   \n",
      "\n",
      "level                                               Beginner Level  \\\n",
      "institution                                                          \n",
      "(ISC)²                                                           1   \n",
      "Advancing Women in Tech                                          1   \n",
      "Alibaba Cloud Academy                                            0   \n",
      "Amazon Web Services                                              1   \n",
      "California Institute of the Arts                                 1   \n",
      "DeepLearning.AI                                                  0   \n",
      "Duke University                                                  4   \n",
      "Georgia Institute of Technology                                  1   \n",
      "GitLab                                                           0   \n",
      "Google                                                          28   \n",
      "IBM                                                              1   \n",
      "IBM Skills Network                                              13   \n",
      "Imperial College London                                          1   \n",
      "Juniper Networks                                                 1   \n",
      "Knowledge Accelerators                                           1   \n",
      "Macquarie University                                             1   \n",
      "McMaster University                                              0   \n",
      "Meta                                                             3   \n",
      "Michigan State University                                        1   \n",
      "New York University                                              1   \n",
      "Palo Alto Networks                                               1   \n",
      "Politecnico di Milano                                            1   \n",
      "Pontificia Universidad Católica de Chile                         1   \n",
      "Rutgers the State University of New Jersey                       1   \n",
      "Stanford University                                              1   \n",
      "The Hong Kong University of Science and Technology               5   \n",
      "The University of Sydney                                         0   \n",
      "Universidad Austral                                              1   \n",
      "Universidad de los Andes                                         1   \n",
      "Universidade de São Paulo                                        1   \n",
      "University of Alberta                                            1   \n",
      "University of Arizona                                            2   \n",
      "University of California San Diego                               0   \n",
      "University of California, Davis                                  1   \n",
      "University of Colorado Boulder                                   1   \n",
      "University of Colorado System                                    4   \n",
      "University of Maryland, College Park                             0   \n",
      "University of Michigan                                           3   \n",
      "University of Minnesota                                          2   \n",
      "University of Toronto                                            3   \n",
      "University of Virginia                                           4   \n",
      "\n",
      "level                                               Intermediate Level  \n",
      "institution                                                             \n",
      "(ISC)²                                                               0  \n",
      "Advancing Women in Tech                                              0  \n",
      "Alibaba Cloud Academy                                                1  \n",
      "Amazon Web Services                                                  1  \n",
      "California Institute of the Arts                                     1  \n",
      "DeepLearning.AI                                                      1  \n",
      "Duke University                                                      0  \n",
      "Georgia Institute of Technology                                      0  \n",
      "GitLab                                                               1  \n",
      "Google                                                               9  \n",
      "IBM                                                                  0  \n",
      "IBM Skills Network                                                   0  \n",
      "Imperial College London                                              0  \n",
      "Juniper Networks                                                     0  \n",
      "Knowledge Accelerators                                               0  \n",
      "Macquarie University                                                 3  \n",
      "McMaster University                                                  1  \n",
      "Meta                                                                 0  \n",
      "Michigan State University                                            0  \n",
      "New York University                                                  0  \n",
      "Palo Alto Networks                                                   0  \n",
      "Politecnico di Milano                                                0  \n",
      "Pontificia Universidad Católica de Chile                             0  \n",
      "Rutgers the State University of New Jersey                           0  \n",
      "Stanford University                                                  1  \n",
      "The Hong Kong University of Science and Technology                   0  \n",
      "The University of Sydney                                             1  \n",
      "Universidad Austral                                                  0  \n",
      "Universidad de los Andes                                             0  \n",
      "Universidade de São Paulo                                            0  \n",
      "University of Alberta                                                0  \n",
      "University of Arizona                                                0  \n",
      "University of California San Diego                                   3  \n",
      "University of California, Davis                                      0  \n",
      "University of Colorado Boulder                                       1  \n",
      "University of Colorado System                                        3  \n",
      "University of Maryland, College Park                                 1  \n",
      "University of Michigan                                               2  \n",
      "University of Minnesota                                              0  \n",
      "University of Toronto                                                0  \n",
      "University of Virginia                                               1  \n",
      "Institution with the most advanced-level courses: University of Colorado Boulder\n",
      "Institution with the most intermediate-level courses: Google\n",
      "Institution with the most beginner-level courses: Google\n"
     ]
    }
   ],
   "source": [
    "print(pivot_table)\n",
    "\n",
    "print(\"Institution with the most advanced-level courses:\", advanced)\n",
    "print(\"Institution with the most intermediate-level courses:\", intermediate)\n",
    "print(\"Institution with the most beginner-level courses:\", beginner)"
   ]
  },
  {
   "cell_type": "markdown",
   "id": "b5edbcb5",
   "metadata": {},
   "source": [
    "THIS IS AN INDIVIDUAL ASSIGNMENT. YOU MAY NOT DISCUSS THIS ASSIGNMENT WITH ANYONE WITHIN OR OUTSIDE THE CLASS (except the instructor).\n",
    "- DO not discuss your approaches or your code with colleagues. There are many ways to implement this assignment, and it is extremely easy to spot code that has been inspired by someone else’s code and to identify unauthorized collaborations.\n",
    "- If you choose to utilize something you find online, cite that resource, but DO NOT share that resource with anyone else.\n",
    "By submitting this assignment, you certify that no unauthorized assistance has been received or given in the completion of this work.\n",
    "\n",
    "Kade Levy"
   ]
  },
  {
   "cell_type": "code",
   "execution_count": null,
   "id": "4ef3d3d9",
   "metadata": {},
   "outputs": [],
   "source": []
  },
  {
   "cell_type": "code",
   "execution_count": null,
   "id": "955fad0f",
   "metadata": {},
   "outputs": [],
   "source": []
  },
  {
   "cell_type": "code",
   "execution_count": null,
   "id": "c7bdae10",
   "metadata": {},
   "outputs": [],
   "source": []
  },
  {
   "cell_type": "code",
   "execution_count": null,
   "id": "d02e4b14",
   "metadata": {},
   "outputs": [],
   "source": []
  },
  {
   "cell_type": "code",
   "execution_count": null,
   "id": "6435f873",
   "metadata": {},
   "outputs": [],
   "source": []
  },
  {
   "cell_type": "code",
   "execution_count": null,
   "id": "0e50d3fb",
   "metadata": {},
   "outputs": [],
   "source": []
  },
  {
   "cell_type": "code",
   "execution_count": null,
   "id": "c95ac08d",
   "metadata": {},
   "outputs": [],
   "source": []
  },
  {
   "cell_type": "code",
   "execution_count": null,
   "id": "f2c8d223",
   "metadata": {},
   "outputs": [],
   "source": []
  },
  {
   "cell_type": "code",
   "execution_count": null,
   "id": "390d214d",
   "metadata": {},
   "outputs": [],
   "source": []
  },
  {
   "cell_type": "code",
   "execution_count": null,
   "id": "7d78e037",
   "metadata": {},
   "outputs": [],
   "source": []
  },
  {
   "cell_type": "code",
   "execution_count": null,
   "id": "0b27953f",
   "metadata": {},
   "outputs": [],
   "source": []
  },
  {
   "cell_type": "code",
   "execution_count": null,
   "id": "e70dc102",
   "metadata": {},
   "outputs": [],
   "source": []
  },
  {
   "cell_type": "code",
   "execution_count": null,
   "id": "7c976678",
   "metadata": {},
   "outputs": [],
   "source": []
  },
  {
   "cell_type": "code",
   "execution_count": null,
   "id": "c47cbb47",
   "metadata": {},
   "outputs": [],
   "source": []
  },
  {
   "cell_type": "code",
   "execution_count": null,
   "id": "a4c16901",
   "metadata": {},
   "outputs": [],
   "source": []
  },
  {
   "cell_type": "code",
   "execution_count": null,
   "id": "e60d25da",
   "metadata": {},
   "outputs": [],
   "source": []
  },
  {
   "cell_type": "code",
   "execution_count": null,
   "id": "714f525b",
   "metadata": {},
   "outputs": [],
   "source": []
  },
  {
   "cell_type": "code",
   "execution_count": null,
   "id": "25f3b9c3",
   "metadata": {},
   "outputs": [],
   "source": []
  },
  {
   "cell_type": "code",
   "execution_count": null,
   "id": "bd00b081",
   "metadata": {},
   "outputs": [],
   "source": []
  }
 ],
 "metadata": {
  "kernelspec": {
   "display_name": "Python 3 (ipykernel)",
   "language": "python",
   "name": "python3"
  },
  "language_info": {
   "codemirror_mode": {
    "name": "ipython",
    "version": 3
   },
   "file_extension": ".py",
   "mimetype": "text/x-python",
   "name": "python",
   "nbconvert_exporter": "python",
   "pygments_lexer": "ipython3",
   "version": "3.11.4"
  }
 },
 "nbformat": 4,
 "nbformat_minor": 5
}
