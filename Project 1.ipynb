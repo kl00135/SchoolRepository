{
 "cells": [
  {
   "cell_type": "markdown",
   "id": "95a268d1",
   "metadata": {},
   "source": [
    "Part 1"
   ]
  },
  {
   "cell_type": "code",
   "execution_count": 2,
   "id": "63ae1193",
   "metadata": {},
   "outputs": [],
   "source": [
    " import pandas as pd\n",
    "from matplotlib import pyplot as plt\n",
    "import numpy as np\n",
    "import seaborn as sns"
   ]
  },
  {
   "cell_type": "markdown",
   "id": "ec308ff3",
   "metadata": {},
   "source": [
    "Problem Statments\n",
    "\n",
    "Dataset link: https://www.kaggle.com/datasets/shariful07/student-mental-health?resource=download\n",
    "\n",
    "This data describes the relation between the mental health of a student, to their GPA. By comparing acedemic status to features like if the student in question has anxeity, or panic attacks. \n",
    "\n",
    "Our main question is realizing if student's mental health has a real effect on their acedemic preformance. We will use the factor of depression in particular.\n",
    "\n",
    "On the way, we can investigate these three sub-questions.\n",
    "\n",
    "1. Out of each group, which year of students is depression issues more likely to effect?\n",
    "2. Are male or female students effected more by depression?\n",
    "3. Are depression, anxiety, or panic attacks most common in general?"
   ]
  },
  {
   "cell_type": "markdown",
   "id": "f1940af7",
   "metadata": {},
   "source": [
    "Part 2"
   ]
  },
  {
   "cell_type": "markdown",
   "id": "f5a5a7c0",
   "metadata": {},
   "source": [
    "Data Cleaning\n",
    "\n",
    "We don't need every single column here, as not every factor plays a role in our hypothesis. For example, the timestamp, marriage, and career columns of data has nothing to do with any of our questions and sub-questions. \n",
    "\n"
   ]
  },
  {
   "cell_type": "code",
   "execution_count": 29,
   "id": "f794ed9c",
   "metadata": {},
   "outputs": [
    {
     "name": "stdout",
     "output_type": "stream",
     "text": [
      "    Choose your gender   Age Your current year of Study What is your CGPA?  \\\n",
      "0               Female  18.0                     year 1        3.00 - 3.49   \n",
      "1                 Male  21.0                     year 2        3.00 - 3.49   \n",
      "2                 Male  19.0                     Year 1        3.00 - 3.49   \n",
      "3               Female  22.0                     year 3        3.00 - 3.49   \n",
      "4                 Male  23.0                     year 4        3.00 - 3.49   \n",
      "..                 ...   ...                        ...                ...   \n",
      "96              Female  21.0                     year 1        3.50 - 4.00   \n",
      "97                Male  18.0                     Year 2        3.00 - 3.49   \n",
      "98              Female  19.0                     Year 3        3.50 - 4.00   \n",
      "99              Female  23.0                     year 4        3.50 - 4.00   \n",
      "100               Male  20.0                     Year 2        3.00 - 3.49   \n",
      "\n",
      "    Do you have Depression? Do you have Anxiety? Do you have Panic attack?  \\\n",
      "0                       Yes                   No                       Yes   \n",
      "1                        No                  Yes                        No   \n",
      "2                       Yes                  Yes                       Yes   \n",
      "3                       Yes                   No                        No   \n",
      "4                        No                   No                        No   \n",
      "..                      ...                  ...                       ...   \n",
      "96                       No                  Yes                        No   \n",
      "97                      Yes                  Yes                        No   \n",
      "98                      Yes                   No                       Yes   \n",
      "99                       No                   No                        No   \n",
      "100                      No                   No                        No   \n",
      "\n",
      "    Did you seek any specialist for a treatment?  \n",
      "0                                             No  \n",
      "1                                             No  \n",
      "2                                             No  \n",
      "3                                             No  \n",
      "4                                             No  \n",
      "..                                           ...  \n",
      "96                                            No  \n",
      "97                                            No  \n",
      "98                                            No  \n",
      "99                                            No  \n",
      "100                                           No  \n",
      "\n",
      "[101 rows x 8 columns]\n"
     ]
    }
   ],
   "source": [
    "df = pd.read_csv('Student Mental Health.csv')\n",
    "df.drop(columns=['Timestamp', 'What is your course?', 'Marital status'], inplace=True)\n",
    "print(df)"
   ]
  },
  {
   "cell_type": "markdown",
   "id": "e4776536",
   "metadata": {},
   "source": [
    "Data Cleaning \n",
    "\n",
    "Next we will check for any missing values, we can do this by using the dropna()feature to seek out null values. "
   ]
  },
  {
   "cell_type": "code",
   "execution_count": 30,
   "id": "50565202",
   "metadata": {},
   "outputs": [
    {
     "name": "stdout",
     "output_type": "stream",
     "text": [
      "    Choose your gender   Age Your current year of Study What is your CGPA?  \\\n",
      "0               Female  18.0                     year 1        3.00 - 3.49   \n",
      "1                 Male  21.0                     year 2        3.00 - 3.49   \n",
      "2                 Male  19.0                     Year 1        3.00 - 3.49   \n",
      "3               Female  22.0                     year 3        3.00 - 3.49   \n",
      "4                 Male  23.0                     year 4        3.00 - 3.49   \n",
      "..                 ...   ...                        ...                ...   \n",
      "96              Female  21.0                     year 1        3.50 - 4.00   \n",
      "97                Male  18.0                     Year 2        3.00 - 3.49   \n",
      "98              Female  19.0                     Year 3        3.50 - 4.00   \n",
      "99              Female  23.0                     year 4        3.50 - 4.00   \n",
      "100               Male  20.0                     Year 2        3.00 - 3.49   \n",
      "\n",
      "    Do you have Depression? Do you have Anxiety? Do you have Panic attack?  \\\n",
      "0                       Yes                   No                       Yes   \n",
      "1                        No                  Yes                        No   \n",
      "2                       Yes                  Yes                       Yes   \n",
      "3                       Yes                   No                        No   \n",
      "4                        No                   No                        No   \n",
      "..                      ...                  ...                       ...   \n",
      "96                       No                  Yes                        No   \n",
      "97                      Yes                  Yes                        No   \n",
      "98                      Yes                   No                       Yes   \n",
      "99                       No                   No                        No   \n",
      "100                      No                   No                        No   \n",
      "\n",
      "    Did you seek any specialist for a treatment?  \n",
      "0                                             No  \n",
      "1                                             No  \n",
      "2                                             No  \n",
      "3                                             No  \n",
      "4                                             No  \n",
      "..                                           ...  \n",
      "96                                            No  \n",
      "97                                            No  \n",
      "98                                            No  \n",
      "99                                            No  \n",
      "100                                           No  \n",
      "\n",
      "[100 rows x 8 columns]\n"
     ]
    }
   ],
   "source": [
    "df.dropna(inplace=True)\n",
    "print(df)"
   ]
  },
  {
   "cell_type": "markdown",
   "id": "b950b993",
   "metadata": {},
   "source": [
    "Now we're going to check for duplicates. If there is any duplicate data within the table, it will be discarded. \n"
   ]
  },
  {
   "cell_type": "code",
   "execution_count": 31,
   "id": "4e5f1eb3",
   "metadata": {},
   "outputs": [
    {
     "name": "stdout",
     "output_type": "stream",
     "text": [
      "Potential Duplicate Rows:\n",
      "   Choose your gender   Age Your current year of Study What is your CGPA?  \\\n",
      "38             Female  18.0                     year 1        3.50 - 4.00   \n",
      "45               Male  18.0                     year 1        3.50 - 4.00   \n",
      "58             Female  18.0                     year 1        3.50 - 4.00   \n",
      "61             Female  19.0                     year 1        3.50 - 4.00   \n",
      "64             Female  24.0                     year 1        3.50 - 4.00   \n",
      "70             Female  24.0                     year 1        3.00 - 3.49   \n",
      "79             Female  18.0                     year 4        3.50 - 4.00   \n",
      "93             Female  18.0                     year 1        3.00 - 3.49   \n",
      "95             Female  18.0                     year 1        3.50 - 4.00   \n",
      "97               Male  18.0                     Year 2        3.00 - 3.49   \n",
      "\n",
      "   Do you have Depression? Do you have Anxiety? Do you have Panic attack?  \\\n",
      "38                      No                   No                        No   \n",
      "45                      No                  Yes                       Yes   \n",
      "58                      No                   No                        No   \n",
      "61                      No                   No                        No   \n",
      "64                      No                   No                        No   \n",
      "70                      No                   No                        No   \n",
      "79                      No                   No                        No   \n",
      "93                     Yes                   No                        No   \n",
      "95                      No                   No                        No   \n",
      "97                     Yes                  Yes                        No   \n",
      "\n",
      "   Did you seek any specialist for a treatment?  \n",
      "38                                           No  \n",
      "45                                           No  \n",
      "58                                           No  \n",
      "61                                           No  \n",
      "64                                           No  \n",
      "70                                           No  \n",
      "79                                           No  \n",
      "93                                           No  \n",
      "95                                           No  \n",
      "97                                           No  \n"
     ]
    }
   ],
   "source": [
    "duplicates = df[df.duplicated()]\n",
    "\n",
    "# Display the potential duplicate rows\n",
    "print(\"Potential Duplicate Rows:\")\n",
    "print(duplicates)"
   ]
  },
  {
   "cell_type": "code",
   "execution_count": 32,
   "id": "4680eeb2",
   "metadata": {
    "scrolled": true
   },
   "outputs": [
    {
     "name": "stdout",
     "output_type": "stream",
     "text": [
      "    Choose your gender   Age Your current year of Study What is your CGPA?  \\\n",
      "0               Female  18.0                     year 1        3.00 - 3.49   \n",
      "1                 Male  21.0                     year 2        3.00 - 3.49   \n",
      "2                 Male  19.0                     Year 1        3.00 - 3.49   \n",
      "3               Female  22.0                     year 3        3.00 - 3.49   \n",
      "4                 Male  23.0                     year 4        3.00 - 3.49   \n",
      "..                 ...   ...                        ...                ...   \n",
      "94              Female  24.0                     Year 3           0 - 1.99   \n",
      "96              Female  21.0                     year 1        3.50 - 4.00   \n",
      "98              Female  19.0                     Year 3        3.50 - 4.00   \n",
      "99              Female  23.0                     year 4        3.50 - 4.00   \n",
      "100               Male  20.0                     Year 2        3.00 - 3.49   \n",
      "\n",
      "    Do you have Depression? Do you have Anxiety? Do you have Panic attack?  \\\n",
      "0                       Yes                   No                       Yes   \n",
      "1                        No                  Yes                        No   \n",
      "2                       Yes                  Yes                       Yes   \n",
      "3                       Yes                   No                        No   \n",
      "4                        No                   No                        No   \n",
      "..                      ...                  ...                       ...   \n",
      "94                       No                   No                       Yes   \n",
      "96                       No                  Yes                        No   \n",
      "98                      Yes                   No                       Yes   \n",
      "99                       No                   No                        No   \n",
      "100                      No                   No                        No   \n",
      "\n",
      "    Did you seek any specialist for a treatment?  \n",
      "0                                             No  \n",
      "1                                             No  \n",
      "2                                             No  \n",
      "3                                             No  \n",
      "4                                             No  \n",
      "..                                           ...  \n",
      "94                                            No  \n",
      "96                                            No  \n",
      "98                                            No  \n",
      "99                                            No  \n",
      "100                                           No  \n",
      "\n",
      "[90 rows x 8 columns]\n"
     ]
    }
   ],
   "source": [
    "df.drop_duplicates(inplace=True)\n",
    "print(df)"
   ]
  },
  {
   "cell_type": "markdown",
   "id": "7f39f5f1",
   "metadata": {},
   "source": [
    "Data Cleaning\n",
    "\n",
    "Our code is looking loads more clean now, getting rid of unnecessary detail makes analyzing the final data a lot easier. Next we're going to want to list the datatypes out to see if they're all correct."
   ]
  },
  {
   "cell_type": "code",
   "execution_count": 33,
   "id": "349d875c",
   "metadata": {},
   "outputs": [
    {
     "name": "stdout",
     "output_type": "stream",
     "text": [
      "Choose your gender                               object\n",
      "Age                                             float64\n",
      "Your current year of Study                       object\n",
      "What is your CGPA?                               object\n",
      "Do you have Depression?                          object\n",
      "Do you have Anxiety?                             object\n",
      "Do you have Panic attack?                        object\n",
      "Did you seek any specialist for a treatment?     object\n",
      "dtype: object\n"
     ]
    }
   ],
   "source": [
    "print(df.dtypes)"
   ]
  },
  {
   "cell_type": "markdown",
   "id": "188ffcef",
   "metadata": {},
   "source": [
    "Because age cannot be a decimal number, we're going to convert it to a more ideal type, an int."
   ]
  },
  {
   "cell_type": "code",
   "execution_count": 34,
   "id": "f45952c2",
   "metadata": {},
   "outputs": [
    {
     "name": "stdout",
     "output_type": "stream",
     "text": [
      "Choose your gender                              object\n",
      "Age                                              int32\n",
      "Your current year of Study                      object\n",
      "What is your CGPA?                              object\n",
      "Do you have Depression?                         object\n",
      "Do you have Anxiety?                            object\n",
      "Do you have Panic attack?                       object\n",
      "Did you seek any specialist for a treatment?    object\n",
      "dtype: object\n"
     ]
    }
   ],
   "source": [
    "df['Age'] = df['Age'].astype(int)\n",
    "print(df.dtypes)"
   ]
  },
  {
   "cell_type": "markdown",
   "id": "fd9649b4",
   "metadata": {},
   "source": [
    "Everything else should be fine, as object classes are commonly used to story text data."
   ]
  },
  {
   "cell_type": "markdown",
   "id": "c88c3446",
   "metadata": {},
   "source": [
    "Data Cleaning\n",
    "\n",
    "Our last step in cleaning, is to remove any inconsistencies. This may be anything from spelling mistakes in the catagory variables, to outliers in the numerical variables. After looking throughout the document, I haven't been able to spot any grammer mistakes within the inputs, and each integer stays between the boundries of 18 - 24. So there are no outliers. None the less, we will run a check for them anyways. Making sure the ints stay between 18  and 24, and setting all text to be capitalized so that everything is completely consistant."
   ]
  },
  {
   "cell_type": "code",
   "execution_count": 35,
   "id": "8aa56bb4",
   "metadata": {},
   "outputs": [
    {
     "name": "stdout",
     "output_type": "stream",
     "text": [
      "    Choose your gender  Age Your current year of Study What is your CGPA?  \\\n",
      "0               FEMALE   18                     YEAR 1        3.00 - 3.49   \n",
      "1                 MALE   21                     YEAR 2        3.00 - 3.49   \n",
      "2                 MALE   19                     YEAR 1        3.00 - 3.49   \n",
      "3               FEMALE   22                     YEAR 3        3.00 - 3.49   \n",
      "4                 MALE   23                     YEAR 4        3.00 - 3.49   \n",
      "..                 ...  ...                        ...                ...   \n",
      "94              FEMALE   24                     YEAR 3           0 - 1.99   \n",
      "96              FEMALE   21                     YEAR 1        3.50 - 4.00   \n",
      "98              FEMALE   19                     YEAR 3        3.50 - 4.00   \n",
      "99              FEMALE   23                     YEAR 4        3.50 - 4.00   \n",
      "100               MALE   20                     YEAR 2        3.00 - 3.49   \n",
      "\n",
      "    Do you have Depression? Do you have Anxiety? Do you have Panic attack?  \\\n",
      "0                       YES                   NO                       YES   \n",
      "1                        NO                  YES                        NO   \n",
      "2                       YES                  YES                       YES   \n",
      "3                       YES                   NO                        NO   \n",
      "4                        NO                   NO                        NO   \n",
      "..                      ...                  ...                       ...   \n",
      "94                       NO                   NO                       YES   \n",
      "96                       NO                  YES                        NO   \n",
      "98                      YES                   NO                       YES   \n",
      "99                       NO                   NO                        NO   \n",
      "100                      NO                   NO                        NO   \n",
      "\n",
      "    Did you seek any specialist for a treatment?  \n",
      "0                                             NO  \n",
      "1                                             NO  \n",
      "2                                             NO  \n",
      "3                                             NO  \n",
      "4                                             NO  \n",
      "..                                           ...  \n",
      "94                                            NO  \n",
      "96                                            NO  \n",
      "98                                            NO  \n",
      "99                                            NO  \n",
      "100                                           NO  \n",
      "\n",
      "[90 rows x 8 columns]\n"
     ]
    }
   ],
   "source": [
    "#Checking that each category is consistant \n",
    "categorical_columns = ['Choose your gender', 'Your current year of Study', 'What is your CGPA?',\n",
    "                       'Marital status', 'Do you have Depression?', 'Do you have Anxiety?',\n",
    "                       'Do you have Panic attack?', 'Did you seek any specialist for treatment?']\n",
    "for col in df.columns:\n",
    "    if df[col].dtype == 'object': \n",
    "        df[col] = df[col].str.upper()  \n",
    "        \n",
    "#Checking for rows with age outliers\n",
    "age_outliers = (df['Age'] < 18) | (df['Age'] > 24)\n",
    "df = df[~age_outliers] \n",
    "print(df)"
   ]
  },
  {
   "cell_type": "markdown",
   "id": "d8b7fe11",
   "metadata": {},
   "source": [
    "Exploratory Data Analysis \n",
    "Now it's time to analyze our findings. Our main question was \"does student's mental health have a direct effect on their academic performance?\". We'll be answering this with our sub questions using the data we've cleaned. So it's time to take a look at each sub question entirely.\n",
    "\n",
    "A. Process the data"
   ]
  },
  {
   "cell_type": "code",
   "execution_count": 36,
   "id": "2e6bc5d9",
   "metadata": {
    "scrolled": true
   },
   "outputs": [
    {
     "name": "stdout",
     "output_type": "stream",
     "text": [
      "                            Do you have Depression?\n",
      "Your current year of Study                         \n",
      "YEAR 1                                           34\n",
      "YEAR 2                                           25\n",
      "YEAR 3                                           24\n",
      "YEAR 4                                            7\n",
      "                    Do you have Depression?\n",
      "Choose your gender                         \n",
      "FEMALE                                   67\n",
      "MALE                                     23\n",
      "                                                                                                 Age\n",
      "Do you have Depression? Do you have Anxiety? Do you have Panic attack? What is your CGPA?           \n",
      "NO                      NO                   NO                        0 - 1.99            18.500000\n",
      "                                                                       2.00 - 2.49         18.000000\n",
      "                                                                       2.50 - 2.99         19.000000\n",
      "                                                                       3.00 - 3.49         20.928571\n",
      "                                                                       3.50 - 4.00         21.727273\n",
      "                                             YES                       0 - 1.99            24.000000\n",
      "                                                                       2.00 - 2.49         24.000000\n",
      "                                                                       3.00 - 3.49         18.333333\n",
      "                                                                       3.50 - 4.00         21.000000\n",
      "                        YES                  NO                        3.00 - 3.49         21.500000\n",
      "                                                                       3.50 - 4.00         19.714286\n",
      "                                             YES                       3.50 - 4.00         21.000000\n",
      "YES                     NO                   NO                        3.00 - 3.49         20.714286\n",
      "                                                                       3.50 - 4.00         21.000000\n",
      "                                             YES                       2.50 - 2.99         23.500000\n",
      "                                                                       3.00 - 3.49         18.500000\n",
      "                                                                       3.50 - 4.00         19.000000\n",
      "                                                                       3.50 - 4.00         23.000000\n",
      "                        YES                  NO                        3.00 - 3.49         18.750000\n",
      "                                                                       3.50 - 4.00         19.666667\n",
      "                                             YES                       2.50 - 2.99         19.000000\n",
      "                                                                       3.00 - 3.49         20.500000\n",
      "                                                                       3.50 - 4.00         21.400000\n"
     ]
    },
    {
     "name": "stderr",
     "output_type": "stream",
     "text": [
      "C:\\Users\\kadel\\AppData\\Local\\Temp\\ipykernel_5804\\3643088545.py:11: FutureWarning: pivot_table dropped a column because it failed to aggregate. This behavior is deprecated and will raise in a future version of pandas. Select only the columns that can be aggregated.\n",
      "  pivot_table_conditions = df.pivot_table(index=['Do you have Depression?', 'Do you have Anxiety?', 'Do you have Panic attack?', 'What is your CGPA?'])\n"
     ]
    }
   ],
   "source": [
    "pivot_table_year = df.pivot_table(index='Your current year of Study', \n",
    "                                  values=['Do you have Depression?'], \n",
    "                                  aggfunc='count')\n",
    "print(pivot_table_year)\n",
    "\n",
    "pivot_table_gender = df.pivot_table(index='Choose your gender', \n",
    "                                    values=['Do you have Depression?'], \n",
    "                                    aggfunc='count')\n",
    "print(pivot_table_gender)\n",
    "\n",
    "pivot_table_conditions = df.pivot_table(index=['Do you have Depression?', 'Do you have Anxiety?', 'Do you have Panic attack?', 'What is your CGPA?'])\n",
    "print(pivot_table_conditions)\n"
   ]
  },
  {
   "cell_type": "markdown",
   "id": "a293f8bf",
   "metadata": {},
   "source": [
    "B. Graph the result"
   ]
  },
  {
   "cell_type": "code",
   "execution_count": 45,
   "id": "ec06ba59",
   "metadata": {
    "scrolled": true
   },
   "outputs": [
    {
     "data": {
      "image/png": "[encoded data removed]",
      "text/plain": [
       "<Figure size 640x480 with 1 Axes>"
      ]
     },
     "metadata": {},
     "output_type": "display_data"
    },
    {
     "data": {
      "image/png": "[encoded data removed]",
      "text/plain": [
       "<Figure size 640x480 with 1 Axes>"
      ]
     },
     "metadata": {},
     "output_type": "display_data"
    },
    {
     "data": {
      "image/png": "[encoded data removed]",
      "text/plain": [
       "<Figure size 800x600 with 1 Axes>"
      ]
     },
     "metadata": {},
     "output_type": "display_data"
    }
   ],
   "source": [
    "#Number of students with depression per year\n",
    "sns.countplot(data=df, x='Your current year of Study', hue='Do you have Depression?')\n",
    "plt.title('Distribution of Depression by Year')\n",
    "plt.show()\n",
    "\n",
    "#Number of students with depression based on gender\n",
    "sns.countplot(data=df, x='Choose your gender', hue='Do you have Depression?')\n",
    "plt.title('Distribution of Depression by Gender')\n",
    "plt.show()\n",
    "\n",
    "\n",
    "#Which issue among the crowd is most common, compared against each other\n",
    "depression_count = df['Do you have Depression?'].value_counts()\n",
    "anxiety_count = df['Do you have Anxiety?'].value_counts()\n",
    "panic_attack_count = df['Do you have Panic attack?'].value_counts()\n",
    "\n",
    "#Creating data for the pie chart\n",
    "labels = ['Depression', 'Anxiety', 'Panic Attack']\n",
    "sizes = [depression_count['YES'], anxiety_count['YES'], panic_attack_count['YES']]\n",
    "colors = ['blue', 'green', 'red']\n",
    "\n",
    "plt.figure(figsize=(8, 6))\n",
    "plt.pie(sizes, labels=labels, colors=colors, autopct='%1.1f%%')\n",
    "plt.title('Distribution of Mental Health Issues')\n",
    "\n",
    "plt.show()"
   ]
  },
  {
   "cell_type": "markdown",
   "id": "e3703d26",
   "metadata": {},
   "source": [
    "C. Interprete the result\n",
    "\n",
    "1. This bar chart illustrates the distribution of the mental health issue, depression, across different years of study among the surveyed students. It provides a visual representation of how these issues are more likely to affect students in various academic years. For instance, it shows whether students in their first year of study are more or less likely to experience these mental health concerns compared to those in subsequent years. The trend of this chart shows us that as the years go by, depression in those surveyed, lessens. It only decreases slightly during the second and third year, but tanks exponentially in the final. This could very well be seen as schoolwork, projects, and due dates adding extra pressure among students. The preassure to keep your GPA up, that sticks with you until the very end. The decrease in depression could have something to do with an increase of accomplishment and pride as one moves along the ranks.\n",
    "\n",
    "\n",
    "2. This bar chart showcases the distribution of the mental health issue, depression, among male and female students. Using it, we can figure out whether there are gender-based differences in the owning of the mental illness, depression. By comparing the counts for each condition between male and female students, we can clearly see that female students seem to deal with the effects of depression much more commonly than male students. This can be contributed to the fact that statistically, it has been proven, women are more emotionally expressive. It's not like all women are confirmed more emotional than men, but they are said to share their feelings more often than men. The trend of this graph also shows that more females were interviewed in general. This may skew the data, so when evaluating, we have to be careful.\n",
    "\n",
    "\n",
    "3. This pie chart contains an interesting visual summary of the distribution of the given three mental health conditions: depression, anxiety, and panic attacks. It presents the percentage breakdown of each condition, which should allow us to easily identify which condition is most prevalent among the surveyed students. However, the graph shows that these illnesses are somewhat evenly spread, surprisingly. This however can be explained. Not only can one participant suffer from multiple effects, but some of them come hand and hand with each other. Often, depression and anxiety can both lead to panic attacks under pressure. And if one has either, the other illness may be acquired, or diagnosed. While it's interesting that there is no one greater power, it makes a lot of sense at the same time. "
   ]
  },
  {
   "cell_type": "markdown",
   "id": "a22ea3ee",
   "metadata": {},
   "source": [
    "Summary"
   ]
  },
  {
   "cell_type": "markdown",
   "id": "79f394f6",
   "metadata": {},
   "source": [
    "With this dataset, there are lots of points we can infer. Within my question and sub-questions, I most commonly brought up depression over anxiety or panic attacks. The reason for this being, the dataset for each illness is somewhat evenly spread, and we can essentially utilize only one of the illnesses to compute the big picture. As well as depression being slightly more common than the other two factors. My main question for this research was \"if student's mental health has a real effect on their academic performance\". I'm quite convinced that it does, as I believe the first sub question answers a lot of our hypothesizes. The findings suggest that depression tends to decrease as students progress through their academic years, possibly due to the added pressure of schoolwork and GPA maintenance. Additionally, we can also infer that female students are more vocal, and possibly more effected by these factors. However, due to the data asking more female students in total, this data might not be accurate. In the future, a better set of data should ask each side equally, to get a better understanding of each perspective. We also went over the fact that each illness, while not identical in nature, is seen equally throughout those they are distributed to. We have seen how the crowd is effected by these illnesses, but have mostly failed to make a solid foundation in comparing those effected with their general scores and grades. If we wanted to find out truly 'what' is effected, and not just 'how' those interviewed are effected. There is definetely more room for deeper exploration into this topic. As it's no doubt much more could be uncovered with plenty of other comparisons to draw from. You could even utilize points we dropped early on, such as marrital status, and what course is studied, to see if there are even more factors that play into the academic behvaior of students. In conclusion, this analysis provides a glimpse into the complex relationship between mental health and academic performance in students. It isn't perfect, but I have also found what else to research, to delve further into this topic. It goes deeper, as there are thousends of different factors that could play into one's behavior. But overall, mental issues like depression are some of the most impactful. "
   ]
  },
  {
   "cell_type": "code",
   "execution_count": null,
   "id": "986d2563",
   "metadata": {},
   "outputs": [],
   "source": []
  },
  {
   "cell_type": "code",
   "execution_count": null,
   "id": "b441874e",
   "metadata": {},
   "outputs": [],
   "source": []
  },
  {
   "cell_type": "code",
   "execution_count": null,
   "id": "98eae71e",
   "metadata": {},
   "outputs": [],
   "source": []
  },
  {
   "cell_type": "code",
   "execution_count": null,
   "id": "7b804bab",
   "metadata": {},
   "outputs": [],
   "source": []
  },
  {
   "cell_type": "code",
   "execution_count": null,
   "id": "25fec5b5",
   "metadata": {},
   "outputs": [],
   "source": []
  },
  {
   "cell_type": "code",
   "execution_count": null,
   "id": "d0cced3e",
   "metadata": {},
   "outputs": [],
   "source": []
  },
  {
   "cell_type": "code",
   "execution_count": null,
   "id": "8955878f",
   "metadata": {},
   "outputs": [],
   "source": []
  },
  {
   "cell_type": "code",
   "execution_count": null,
   "id": "dc70d3bd",
   "metadata": {},
   "outputs": [],
   "source": []
  },
  {
   "cell_type": "code",
   "execution_count": null,
   "id": "c79a027b",
   "metadata": {},
   "outputs": [],
   "source": []
  }
 ],
 "metadata": {
  "kernelspec": {
   "display_name": "Python 3 (ipykernel)",
   "language": "python",
   "name": "python3"
  },
  "language_info": {
   "codemirror_mode": {
    "name": "ipython",
    "version": 3
   },
   "file_extension": ".py",
   "mimetype": "text/x-python",
   "name": "python",
   "nbconvert_exporter": "python",
   "pygments_lexer": "ipython3",
   "version": "3.11.4"
  }
 },
 "nbformat": 4,
 "nbformat_minor": 5
}
