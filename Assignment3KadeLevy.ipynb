{
 "cells": [
  {
   "cell_type": "markdown",
   "id": "4391c85d",
   "metadata": {},
   "source": [
    "Question 1"
   ]
  },
  {
   "cell_type": "code",
   "execution_count": 4,
   "id": "48788019",
   "metadata": {},
   "outputs": [],
   "source": [
    "import numpy as np"
   ]
  },
  {
   "cell_type": "code",
   "execution_count": 5,
   "id": "0d4bfe68",
   "metadata": {},
   "outputs": [
    {
     "name": "stdout",
     "output_type": "stream",
     "text": [
      "arr1: \n",
      "[[93 30  1]\n",
      " [13 37 24]\n",
      " [82 65 82]\n",
      " [95 84 89]\n",
      " [90 91 70]]\n"
     ]
    }
   ],
   "source": [
    "arr1 = np.random.randint(1, 100, (5, 3))\n",
    "print (\"arr1: \")\n",
    "print(arr1)"
   ]
  },
  {
   "cell_type": "markdown",
   "id": "9ebbe06c",
   "metadata": {},
   "source": [
    "Question 2\n"
   ]
  },
  {
   "cell_type": "code",
   "execution_count": 6,
   "id": "b37d6b4e",
   "metadata": {},
   "outputs": [
    {
     "name": "stdout",
     "output_type": "stream",
     "text": [
      "Number in row 3, column 3 =  82\n"
     ]
    }
   ],
   "source": [
    "n = arr1[2, 2]\n",
    "print(\"Number in row 3, column 3 = \", n)"
   ]
  },
  {
   "cell_type": "markdown",
   "id": "ce0fb2d6",
   "metadata": {},
   "source": [
    "Question 3"
   ]
  },
  {
   "cell_type": "code",
   "execution_count": 7,
   "id": "c99b6066",
   "metadata": {},
   "outputs": [],
   "source": [
    "arr_slice = arr1[0:5:2]"
   ]
  },
  {
   "cell_type": "code",
   "execution_count": 8,
   "id": "a4fa5c19",
   "metadata": {},
   "outputs": [
    {
     "name": "stdout",
     "output_type": "stream",
     "text": [
      "[[93 30  1]\n",
      " [82 65 82]\n",
      " [90 91 70]]\n"
     ]
    }
   ],
   "source": [
    "#2 in the step segment means it only prints out every other array.\n",
    "print(arr_slice)"
   ]
  },
  {
   "cell_type": "markdown",
   "id": "1c8919a8",
   "metadata": {},
   "source": [
    "Question 4\n",
    "\n"
   ]
  },
  {
   "cell_type": "code",
   "execution_count": 9,
   "id": "64a800a1",
   "metadata": {},
   "outputs": [],
   "source": [
    "#Because arr1 is an array and not an asarray, this change will not be reflected. Putting [-1, -1] will insure 12345 goes to the end of the array.\n",
    "arr_slice[-1, -1] = 12345"
   ]
  },
  {
   "cell_type": "code",
   "execution_count": 10,
   "id": "602d6abd",
   "metadata": {},
   "outputs": [
    {
     "name": "stdout",
     "output_type": "stream",
     "text": [
      "[[   93    30     1]\n",
      " [   82    65    82]\n",
      " [   90    91 12345]]\n"
     ]
    }
   ],
   "source": [
    "print(arr_slice)"
   ]
  },
  {
   "cell_type": "markdown",
   "id": "f5ed3b28",
   "metadata": {},
   "source": [
    "Question 5"
   ]
  },
  {
   "cell_type": "code",
   "execution_count": 11,
   "id": "7a08ca2d",
   "metadata": {},
   "outputs": [],
   "source": [
    "#Transposing\n",
    "Transposed_array = arr1.transpose()"
   ]
  },
  {
   "cell_type": "code",
   "execution_count": 12,
   "id": "dfa52bea",
   "metadata": {},
   "outputs": [
    {
     "name": "stdout",
     "output_type": "stream",
     "text": [
      "[[   93    13    82    95    90]\n",
      " [   30    37    65    84    91]\n",
      " [    1    24    82    89 12345]]\n"
     ]
    }
   ],
   "source": [
    "print(Transposed_array)"
   ]
  },
  {
   "cell_type": "markdown",
   "id": "d1ec2cf4",
   "metadata": {},
   "source": [
    "Question 6"
   ]
  },
  {
   "cell_type": "code",
   "execution_count": 13,
   "id": "6f5204ca",
   "metadata": {},
   "outputs": [
    {
     "name": "stdout",
     "output_type": "stream",
     "text": [
      "[ 1  3  5  7  9 11 13 15 17 19 21 23 25 27 29 31 33 35 37 39]\n"
     ]
    }
   ],
   "source": [
    "#Creating a second array that uses odd numbers only between 0 to 40. Reshape makes 4 rows with 5 columns.\n",
    "arr2 = np.arange(1, 41, 2)\n",
    "print(arr2)"
   ]
  },
  {
   "cell_type": "code",
   "execution_count": 14,
   "id": "33a85cb6",
   "metadata": {},
   "outputs": [
    {
     "name": "stdout",
     "output_type": "stream",
     "text": [
      "[[ 1  3  5  7  9]\n",
      " [11 13 15 17 19]\n",
      " [21 23 25 27 29]\n",
      " [31 33 35 37 39]]\n"
     ]
    }
   ],
   "source": [
    "print(arr2.reshape(4, 5))"
   ]
  },
  {
   "cell_type": "markdown",
   "id": "bdbb366c",
   "metadata": {},
   "source": [
    "Question 7"
   ]
  },
  {
   "cell_type": "code",
   "execution_count": 15,
   "id": "33a2424e",
   "metadata": {},
   "outputs": [
    {
     "ename": "ValueError",
     "evalue": "all the input arrays must have same number of dimensions, but the array at index 0 has 2 dimension(s) and the array at index 1 has 1 dimension(s)",
     "output_type": "error",
     "traceback": [
      "\u001b[1;31m---------------------------------------------------------------------------\u001b[0m",
      "\u001b[1;31mValueError\u001b[0m                                Traceback (most recent call last)",
      "Cell \u001b[1;32mIn[15], line 2\u001b[0m\n\u001b[0;32m      1\u001b[0m \u001b[38;5;66;03m#Making a new array by horizontally stacking the first two.\u001b[39;00m\n\u001b[1;32m----> 2\u001b[0m arr_new \u001b[38;5;241m=\u001b[39m np\u001b[38;5;241m.\u001b[39mhstack((arr1, arr2))\n",
      "File \u001b[1;32m<__array_function__ internals>:200\u001b[0m, in \u001b[0;36mhstack\u001b[1;34m(*args, **kwargs)\u001b[0m\n",
      "File \u001b[1;32m~\\anaconda3\\Lib\\site-packages\\numpy\\core\\shape_base.py:370\u001b[0m, in \u001b[0;36mhstack\u001b[1;34m(tup, dtype, casting)\u001b[0m\n\u001b[0;32m    368\u001b[0m     \u001b[38;5;28;01mreturn\u001b[39;00m _nx\u001b[38;5;241m.\u001b[39mconcatenate(arrs, \u001b[38;5;241m0\u001b[39m, dtype\u001b[38;5;241m=\u001b[39mdtype, casting\u001b[38;5;241m=\u001b[39mcasting)\n\u001b[0;32m    369\u001b[0m \u001b[38;5;28;01melse\u001b[39;00m:\n\u001b[1;32m--> 370\u001b[0m     \u001b[38;5;28;01mreturn\u001b[39;00m _nx\u001b[38;5;241m.\u001b[39mconcatenate(arrs, \u001b[38;5;241m1\u001b[39m, dtype\u001b[38;5;241m=\u001b[39mdtype, casting\u001b[38;5;241m=\u001b[39mcasting)\n",
      "File \u001b[1;32m<__array_function__ internals>:200\u001b[0m, in \u001b[0;36mconcatenate\u001b[1;34m(*args, **kwargs)\u001b[0m\n",
      "\u001b[1;31mValueError\u001b[0m: all the input arrays must have same number of dimensions, but the array at index 0 has 2 dimension(s) and the array at index 1 has 1 dimension(s)"
     ]
    }
   ],
   "source": [
    "#Making a new array by horizontally stacking the first two.\n",
    "arr_new = np.hstack((arr1, arr2))"
   ]
  },
  {
   "cell_type": "code",
   "execution_count": 16,
   "id": "e300a980",
   "metadata": {},
   "outputs": [],
   "source": [
    "#However, we run into an error because they do not have the same size as each other. We must make sure arr2 has the same rows and columns as arr1.\n"
   ]
  },
  {
   "cell_type": "code",
   "execution_count": 17,
   "id": "55dba325",
   "metadata": {},
   "outputs": [],
   "source": [
    "new_arr2 = np.random.randint(1, 100, (5, 3))"
   ]
  },
  {
   "cell_type": "code",
   "execution_count": 18,
   "id": "02230927",
   "metadata": {},
   "outputs": [
    {
     "name": "stdout",
     "output_type": "stream",
     "text": [
      "[[91 17 32]\n",
      " [74 20 38]\n",
      " [39 68 73]\n",
      " [97 60 53]\n",
      " [95 31 45]]\n"
     ]
    }
   ],
   "source": [
    "print(new_arr2)"
   ]
  },
  {
   "cell_type": "code",
   "execution_count": 19,
   "id": "7cbd0987",
   "metadata": {},
   "outputs": [],
   "source": [
    "arr_new = np.hstack((arr1, new_arr2))"
   ]
  },
  {
   "cell_type": "code",
   "execution_count": 20,
   "id": "1ed1ae49",
   "metadata": {},
   "outputs": [
    {
     "name": "stdout",
     "output_type": "stream",
     "text": [
      "[[   93    30     1    91    17    32]\n",
      " [   13    37    24    74    20    38]\n",
      " [   82    65    82    39    68    73]\n",
      " [   95    84    89    97    60    53]\n",
      " [   90    91 12345    95    31    45]]\n"
     ]
    }
   ],
   "source": [
    "print(arr_new)"
   ]
  },
  {
   "cell_type": "markdown",
   "id": "19a6ed79",
   "metadata": {},
   "source": [
    "Question 8\n"
   ]
  },
  {
   "cell_type": "code",
   "execution_count": 23,
   "id": "792ff63b",
   "metadata": {},
   "outputs": [],
   "source": [
    "arr1_summed = np.sum(arr1, axis = 0)"
   ]
  },
  {
   "cell_type": "code",
   "execution_count": 24,
   "id": "a1484268",
   "metadata": {},
   "outputs": [
    {
     "name": "stdout",
     "output_type": "stream",
     "text": [
      "[  373   307 12541]\n"
     ]
    }
   ],
   "source": [
    "print(arr1_summed)"
   ]
  },
  {
   "cell_type": "markdown",
   "id": "e0bc43ca",
   "metadata": {},
   "source": [
    "Question 9"
   ]
  },
  {
   "cell_type": "code",
   "execution_count": 152,
   "id": "62316d20",
   "metadata": {},
   "outputs": [],
   "source": [
    "#Matrix and Element Wise Multiplication \n",
    "arr3 = np.random.randint(1, 10, size=(3, 4))\n",
    "arr4 = np.random.randint(1, 10, size=(5, 3))"
   ]
  },
  {
   "cell_type": "code",
   "execution_count": 153,
   "id": "ccfff103",
   "metadata": {},
   "outputs": [],
   "source": [
    "MMarrayexample = np.dot(arr1, arr3)"
   ]
  },
  {
   "cell_type": "code",
   "execution_count": 154,
   "id": "cdf9ec48",
   "metadata": {},
   "outputs": [],
   "source": [
    "EWMarrayexample = arr1 * arr4"
   ]
  },
  {
   "cell_type": "code",
   "execution_count": 157,
   "id": "28aef854",
   "metadata": {},
   "outputs": [
    {
     "name": "stdout",
     "output_type": "stream",
     "text": [
      "\n",
      "Matrix Multiplication Example:\n",
      "[[  510   308   273   584]\n",
      " [  895   706   461  1013]\n",
      " [  659   698   472   751]\n",
      " [  396   342   268   454]\n",
      " [74493 37415 49623 86894]]\n",
      "\n",
      "Element-wise Multiplication Example:\n",
      "[[   36   217   117]\n",
      " [  264   693    48]\n",
      " [   63   154    42]\n",
      " [  144    24    66]\n",
      " [  125    62 86415]]\n"
     ]
    }
   ],
   "source": [
    "print(\"\\nMatrix Multiplication Example:\")\n",
    "print(MMarrayexample)\n",
    "\n",
    "print(\"\\nElement-wise Multiplication Example:\")\n",
    "print(EWMarrayexample)"
   ]
  },
  {
   "cell_type": "markdown",
   "id": "3d3afe86",
   "metadata": {},
   "source": [
    "Question 10"
   ]
  },
  {
   "cell_type": "code",
   "execution_count": 52,
   "id": "86b2ee28",
   "metadata": {},
   "outputs": [
    {
     "name": "stdout",
     "output_type": "stream",
     "text": [
      "1D Array: [1 2 3]\n",
      "2D Array:\n",
      "[[1 2 3]\n",
      " [1 2 3]]\n",
      "3D Array:\n",
      "[[[1 2 3]]\n",
      "\n",
      " [[1 2 3]]\n",
      "\n",
      " [[1 2 3]]\n",
      "\n",
      " [[1 2 3]]\n",
      "\n",
      " [[1 2 3]]\n",
      "\n",
      " [[1 2 3]]\n",
      "\n",
      " [[1 2 3]]\n",
      "\n",
      " [[1 2 3]]\n",
      "\n",
      " [[1 2 3]]]\n"
     ]
    }
   ],
   "source": [
    "#Creating a 1D, 2D, and 3D array\n",
    "arr_1d = np.arange(1, 4)\n",
    "\n",
    "print(\"1D Array:\", arr_1d)\n",
    "\n",
    "arr_2d = np.array([np.arange(3) + 1, np.arange(3) + 1])\n",
    "\n",
    "print(\"2D Array:\")\n",
    "print(arr_2d)\n",
    "\n",
    "arr_3d = np.array([[[1, 2, 3]]] * 9)\n",
    "\n",
    "print(\"3D Array:\")\n",
    "print(arr_3d)"
   ]
  },
  {
   "cell_type": "markdown",
   "id": "080f697a",
   "metadata": {},
   "source": [
    "THIS IS AN INDIVIDUAL ASSIGNMENT. YOU MAY NOT DISCUSS THIS ASSIGNMENT WITH ANYONE WITHIN OR OUTSIDE THE CLASS (except the instructor).\n",
    "- DO not discuss your approaches or your code with colleagues. There are many ways to implement this assignment, and it is extremely easy to spot code that has been inspired by someone else’s code and to identify unauthorized collaborations.\n",
    "- If you choose to utilize something you find online, cite that resource, but DO NOT share that resource with anyone else.\n",
    "By submitting this assignment, you certify that no unauthorized assistance has been received or given in the completion of this work."
   ]
  },
  {
   "cell_type": "code",
   "execution_count": 200,
   "id": "727d0aa8",
   "metadata": {},
   "outputs": [],
   "source": [
    "#Kade Levy"
   ]
  },
  {
   "cell_type": "code",
   "execution_count": null,
   "id": "bfb90cfd",
   "metadata": {},
   "outputs": [],
   "source": []
  }
 ],
 "metadata": {
  "kernelspec": {
   "display_name": "Python 3 (ipykernel)",
   "language": "python",
   "name": "python3"
  },
  "language_info": {
   "codemirror_mode": {
    "name": "ipython",
    "version": 3
   },
   "file_extension": ".py",
   "mimetype": "text/x-python",
   "name": "python",
   "nbconvert_exporter": "python",
   "pygments_lexer": "ipython3",
   "version": "3.11.4"
  }
 },
 "nbformat": 4,
 "nbformat_minor": 5
}
