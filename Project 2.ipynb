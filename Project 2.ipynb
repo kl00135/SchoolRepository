{
 "cells": [
  {
   "cell_type": "markdown",
   "id": "5af42724",
   "metadata": {},
   "source": [
    "Question 1: Problem Statement"
   ]
  },
  {
   "cell_type": "code",
   "execution_count": 126,
   "id": "3b90fc0b",
   "metadata": {},
   "outputs": [
    {
     "data": {
      "text/html": [
       "<div>\n",
       "<style scoped>\n",
       "    .dataframe tbody tr th:only-of-type {\n",
       "        vertical-align: middle;\n",
       "    }\n",
       "\n",
       "    .dataframe tbody tr th {\n",
       "        vertical-align: top;\n",
       "    }\n",
       "\n",
       "    .dataframe thead th {\n",
       "        text-align: right;\n",
       "    }\n",
       "</style>\n",
       "<table border=\"1\" class=\"dataframe\">\n",
       "  <thead>\n",
       "    <tr style=\"text-align: right;\">\n",
       "      <th></th>\n",
       "      <th>Gender</th>\n",
       "      <th>EthnicGroup</th>\n",
       "      <th>ParentEduc</th>\n",
       "      <th>LunchType</th>\n",
       "      <th>TestPrep</th>\n",
       "      <th>MathScore</th>\n",
       "      <th>ReadingScore</th>\n",
       "      <th>WritingScore</th>\n",
       "    </tr>\n",
       "  </thead>\n",
       "  <tbody>\n",
       "    <tr>\n",
       "      <th>0</th>\n",
       "      <td>female</td>\n",
       "      <td>group B</td>\n",
       "      <td>bachelor's degree</td>\n",
       "      <td>standard</td>\n",
       "      <td>none</td>\n",
       "      <td>72</td>\n",
       "      <td>72</td>\n",
       "      <td>74</td>\n",
       "    </tr>\n",
       "    <tr>\n",
       "      <th>1</th>\n",
       "      <td>female</td>\n",
       "      <td>group C</td>\n",
       "      <td>some college</td>\n",
       "      <td>standard</td>\n",
       "      <td>completed</td>\n",
       "      <td>69</td>\n",
       "      <td>90</td>\n",
       "      <td>88</td>\n",
       "    </tr>\n",
       "    <tr>\n",
       "      <th>2</th>\n",
       "      <td>female</td>\n",
       "      <td>group B</td>\n",
       "      <td>master's degree</td>\n",
       "      <td>standard</td>\n",
       "      <td>none</td>\n",
       "      <td>90</td>\n",
       "      <td>95</td>\n",
       "      <td>93</td>\n",
       "    </tr>\n",
       "    <tr>\n",
       "      <th>3</th>\n",
       "      <td>male</td>\n",
       "      <td>group A</td>\n",
       "      <td>associate's degree</td>\n",
       "      <td>free/reduced</td>\n",
       "      <td>none</td>\n",
       "      <td>47</td>\n",
       "      <td>57</td>\n",
       "      <td>44</td>\n",
       "    </tr>\n",
       "    <tr>\n",
       "      <th>4</th>\n",
       "      <td>male</td>\n",
       "      <td>group C</td>\n",
       "      <td>some college</td>\n",
       "      <td>standard</td>\n",
       "      <td>none</td>\n",
       "      <td>76</td>\n",
       "      <td>78</td>\n",
       "      <td>75</td>\n",
       "    </tr>\n",
       "  </tbody>\n",
       "</table>\n",
       "</div>"
      ],
      "text/plain": [
       "   Gender EthnicGroup          ParentEduc     LunchType   TestPrep  MathScore  \\\n",
       "0  female     group B   bachelor's degree      standard       none         72   \n",
       "1  female     group C        some college      standard  completed         69   \n",
       "2  female     group B     master's degree      standard       none         90   \n",
       "3    male     group A  associate's degree  free/reduced       none         47   \n",
       "4    male     group C        some college      standard       none         76   \n",
       "\n",
       "   ReadingScore  WritingScore  \n",
       "0            72            74  \n",
       "1            90            88  \n",
       "2            95            93  \n",
       "3            57            44  \n",
       "4            78            75  "
      ]
     },
     "execution_count": 126,
     "metadata": {},
     "output_type": "execute_result"
    }
   ],
   "source": [
    "import pandas as pd\n",
    "from matplotlib import pyplot as plt\n",
    "import numpy as np\n",
    "df = pd.read_csv('exam_scores.csv')\n",
    "df.drop(columns=['Unnamed: 0'], inplace=True)\n",
    "df.head()"
   ]
  },
  {
   "cell_type": "markdown",
   "id": "8763cc69",
   "metadata": {},
   "source": [
    "Description of the dataset: The dataset shows scores from three test scores that different types of students have taken. It also shows factors like their gender and which ethnic group they belong to.\n",
    "\n",
    "Target Variable: There is currently no target variable within the set, so I think a good target variable would be an average between the three scores. \n",
    "\n",
    "My prediction goal is to figure out what factors effect test scores. There is a lot of different elements in the data about the students themselves. So we can use this to figure out what effects test scores and what doesn't."
   ]
  },
  {
   "cell_type": "markdown",
   "id": "e43cca4e",
   "metadata": {},
   "source": [
    "Question 2: Data Cleaning"
   ]
  },
  {
   "cell_type": "code",
   "execution_count": 127,
   "id": "d1bb821d",
   "metadata": {},
   "outputs": [],
   "source": [
    "#Frist, let's drop null values to begin data cleaning.\n",
    "df.dropna(inplace=True)\n",
    "\n",
    "#The only unwanted category present I have already gotten rid of, which was 'Unnamed 0'. It wasn't part of the data.\n",
    "\n",
    "#There are also no duplicates. "
   ]
  },
  {
   "cell_type": "code",
   "execution_count": 128,
   "id": "2195b45f",
   "metadata": {},
   "outputs": [
    {
     "name": "stdout",
     "output_type": "stream",
     "text": [
      "<class 'pandas.core.frame.DataFrame'>\n",
      "RangeIndex: 30641 entries, 0 to 30640\n",
      "Data columns (total 8 columns):\n",
      " #   Column        Non-Null Count  Dtype \n",
      "---  ------        --------------  ----- \n",
      " 0   Gender        30641 non-null  object\n",
      " 1   EthnicGroup   30641 non-null  object\n",
      " 2   ParentEduc    30641 non-null  object\n",
      " 3   LunchType     30641 non-null  object\n",
      " 4   TestPrep      30641 non-null  object\n",
      " 5   MathScore     30641 non-null  int64 \n",
      " 6   ReadingScore  30641 non-null  int64 \n",
      " 7   WritingScore  30641 non-null  int64 \n",
      "dtypes: int64(3), object(5)\n",
      "memory usage: 1.9+ MB\n"
     ]
    }
   ],
   "source": [
    "df.info()"
   ]
  },
  {
   "cell_type": "code",
   "execution_count": 129,
   "id": "35714e75",
   "metadata": {},
   "outputs": [],
   "source": [
    "#To remove any possibility of inconsistancy in our categorical variables, I will set everything to be in all caps. \n",
    "\n",
    "categorical_columns = ['Gender', 'EthnicGroup', 'ParentEduc', 'LunchType', 'TestPrep']\n",
    "#For ease of accsess, I placed the categorical columns into one list, then use upper to capitilize each object.\n",
    "df[categorical_columns] = df[categorical_columns].apply(lambda x: x.str.upper())"
   ]
  },
  {
   "cell_type": "code",
   "execution_count": 130,
   "id": "ed3d15dc",
   "metadata": {},
   "outputs": [],
   "source": [
    "#Lastly, I'm going to make our averages the target variable\n",
    "df['target'] = df[['MathScore', 'ReadingScore', 'WritingScore']].mean(axis=1)"
   ]
  },
  {
   "cell_type": "code",
   "execution_count": 131,
   "id": "9470a245",
   "metadata": {},
   "outputs": [
    {
     "data": {
      "text/html": [
       "<div>\n",
       "<style scoped>\n",
       "    .dataframe tbody tr th:only-of-type {\n",
       "        vertical-align: middle;\n",
       "    }\n",
       "\n",
       "    .dataframe tbody tr th {\n",
       "        vertical-align: top;\n",
       "    }\n",
       "\n",
       "    .dataframe thead th {\n",
       "        text-align: right;\n",
       "    }\n",
       "</style>\n",
       "<table border=\"1\" class=\"dataframe\">\n",
       "  <thead>\n",
       "    <tr style=\"text-align: right;\">\n",
       "      <th></th>\n",
       "      <th>Gender</th>\n",
       "      <th>EthnicGroup</th>\n",
       "      <th>ParentEduc</th>\n",
       "      <th>LunchType</th>\n",
       "      <th>TestPrep</th>\n",
       "      <th>MathScore</th>\n",
       "      <th>ReadingScore</th>\n",
       "      <th>WritingScore</th>\n",
       "      <th>target</th>\n",
       "    </tr>\n",
       "  </thead>\n",
       "  <tbody>\n",
       "    <tr>\n",
       "      <th>0</th>\n",
       "      <td>FEMALE</td>\n",
       "      <td>GROUP B</td>\n",
       "      <td>BACHELOR'S DEGREE</td>\n",
       "      <td>STANDARD</td>\n",
       "      <td>NONE</td>\n",
       "      <td>72</td>\n",
       "      <td>72</td>\n",
       "      <td>74</td>\n",
       "      <td>72.666667</td>\n",
       "    </tr>\n",
       "    <tr>\n",
       "      <th>1</th>\n",
       "      <td>FEMALE</td>\n",
       "      <td>GROUP C</td>\n",
       "      <td>SOME COLLEGE</td>\n",
       "      <td>STANDARD</td>\n",
       "      <td>COMPLETED</td>\n",
       "      <td>69</td>\n",
       "      <td>90</td>\n",
       "      <td>88</td>\n",
       "      <td>82.333333</td>\n",
       "    </tr>\n",
       "    <tr>\n",
       "      <th>2</th>\n",
       "      <td>FEMALE</td>\n",
       "      <td>GROUP B</td>\n",
       "      <td>MASTER'S DEGREE</td>\n",
       "      <td>STANDARD</td>\n",
       "      <td>NONE</td>\n",
       "      <td>90</td>\n",
       "      <td>95</td>\n",
       "      <td>93</td>\n",
       "      <td>92.666667</td>\n",
       "    </tr>\n",
       "    <tr>\n",
       "      <th>3</th>\n",
       "      <td>MALE</td>\n",
       "      <td>GROUP A</td>\n",
       "      <td>ASSOCIATE'S DEGREE</td>\n",
       "      <td>FREE/REDUCED</td>\n",
       "      <td>NONE</td>\n",
       "      <td>47</td>\n",
       "      <td>57</td>\n",
       "      <td>44</td>\n",
       "      <td>49.333333</td>\n",
       "    </tr>\n",
       "    <tr>\n",
       "      <th>4</th>\n",
       "      <td>MALE</td>\n",
       "      <td>GROUP C</td>\n",
       "      <td>SOME COLLEGE</td>\n",
       "      <td>STANDARD</td>\n",
       "      <td>NONE</td>\n",
       "      <td>76</td>\n",
       "      <td>78</td>\n",
       "      <td>75</td>\n",
       "      <td>76.333333</td>\n",
       "    </tr>\n",
       "  </tbody>\n",
       "</table>\n",
       "</div>"
      ],
      "text/plain": [
       "   Gender EthnicGroup          ParentEduc     LunchType   TestPrep  MathScore  \\\n",
       "0  FEMALE     GROUP B   BACHELOR'S DEGREE      STANDARD       NONE         72   \n",
       "1  FEMALE     GROUP C        SOME COLLEGE      STANDARD  COMPLETED         69   \n",
       "2  FEMALE     GROUP B     MASTER'S DEGREE      STANDARD       NONE         90   \n",
       "3    MALE     GROUP A  ASSOCIATE'S DEGREE  FREE/REDUCED       NONE         47   \n",
       "4    MALE     GROUP C        SOME COLLEGE      STANDARD       NONE         76   \n",
       "\n",
       "   ReadingScore  WritingScore     target  \n",
       "0            72            74  72.666667  \n",
       "1            90            88  82.333333  \n",
       "2            95            93  92.666667  \n",
       "3            57            44  49.333333  \n",
       "4            78            75  76.333333  "
      ]
     },
     "execution_count": 131,
     "metadata": {},
     "output_type": "execute_result"
    }
   ],
   "source": [
    "df.head()"
   ]
  },
  {
   "cell_type": "code",
   "execution_count": 132,
   "id": "77f0c966",
   "metadata": {},
   "outputs": [],
   "source": [
    "#Now, one by one, I'll replace each categorical variable with a numerical variable in it's place.\n",
    "\n",
    "df['Gender'] = df['Gender'].replace({'MALE': 0, 'FEMALE': 1})\n",
    "df['LunchType'] = df['LunchType'].replace({'STANDARD': 0, 'FREE/REDUCED': 1})\n",
    "df['TestPrep'] = df['TestPrep'].replace({'NONE': 0, 'COMPLETED': 1})\n",
    "df['EthnicGroup'] = df['EthnicGroup'].replace({'GROUP A': 0, 'GROUP B': 1, 'GROUP C': 2, 'GROUP D': 3, 'GROUP E': 4})\n",
    "df['ParentEduc'] = df['ParentEduc'].replace({\"BACHELOR'S DEGREE\": 0, \"SOME COLLEGE\": 1, \"MASTER'S DEGREE\": 2, \"ASSOCIATE'S DEGREE\": 3, \"HIGH SCHOOL\": 4, \"SOME HIGH SCHOOL\": 5})\n",
    "\n",
    "#ParentEduc's values are put in double quotes because they contian apostrophes within their titles. "
   ]
  },
  {
   "cell_type": "code",
   "execution_count": 133,
   "id": "5b252da0",
   "metadata": {},
   "outputs": [
    {
     "name": "stdout",
     "output_type": "stream",
     "text": [
      "<class 'pandas.core.frame.DataFrame'>\n",
      "RangeIndex: 30641 entries, 0 to 30640\n",
      "Data columns (total 9 columns):\n",
      " #   Column        Non-Null Count  Dtype  \n",
      "---  ------        --------------  -----  \n",
      " 0   Gender        30641 non-null  int64  \n",
      " 1   EthnicGroup   30641 non-null  int64  \n",
      " 2   ParentEduc    30641 non-null  int64  \n",
      " 3   LunchType     30641 non-null  int64  \n",
      " 4   TestPrep      30641 non-null  int64  \n",
      " 5   MathScore     30641 non-null  int64  \n",
      " 6   ReadingScore  30641 non-null  int64  \n",
      " 7   WritingScore  30641 non-null  int64  \n",
      " 8   target        30641 non-null  float64\n",
      "dtypes: float64(1), int64(8)\n",
      "memory usage: 2.1 MB\n"
     ]
    }
   ],
   "source": [
    "df.info()"
   ]
  },
  {
   "cell_type": "code",
   "execution_count": 146,
   "id": "058ede0c",
   "metadata": {},
   "outputs": [
    {
     "data": {
      "image/png": "[encoded data removed]",
      "text/plain": [
       "<Figure size 1800x1000 with 9 Axes>"
      ]
     },
     "metadata": {},
     "output_type": "display_data"
    }
   ],
   "source": [
    "#Now we put all our datas in histograms or box plots. I choose histograms here just due to preference.\n",
    "fig = plt.figure(figsize=(18, 10))\n",
    "i=0\n",
    "for column in df:\n",
    "    sub=fig.add_subplot(3,5,i+1)\n",
    "    sub.set_xlabel(column)\n",
    "    df[column].plot(kind='hist')\n",
    "    i=i+1\n",
    "plt.tight_layout()"
   ]
  },
  {
   "cell_type": "markdown",
   "id": "f1bbbef8",
   "metadata": {},
   "source": [
    "The data appears to be concise with no outliers, as each plot has a very consistant frequency. The graphs don't have any variables that stick out super far from the normal stats."
   ]
  },
  {
   "cell_type": "markdown",
   "id": "27cf6dc0",
   "metadata": {},
   "source": [
    "Question 3: Feature Engineering"
   ]
  },
  {
   "cell_type": "code",
   "execution_count": 135,
   "id": "d336abe5",
   "metadata": {},
   "outputs": [],
   "source": [
    "#We get the P Values from doing a ANOVA F Test. This value is important to the truth of our hypothesis. \n",
    "from sklearn.feature_selection import SelectKBest, f_classif, chi2\n",
    "x = df.loc[:, ['Gender', 'EthnicGroup', 'ParentEduc', 'LunchType', 'TestPrep', 'MathScore', 'ReadingScore', 'WritingScore']]\n",
    "y = df.loc[:, 'target']\n"
   ]
  },
  {
   "cell_type": "code",
   "execution_count": 136,
   "id": "b40a98d8",
   "metadata": {},
   "outputs": [],
   "source": [
    "fs = SelectKBest(score_func=f_classif, k='all')"
   ]
  },
  {
   "cell_type": "code",
   "execution_count": 137,
   "id": "10538e05",
   "metadata": {},
   "outputs": [],
   "source": [
    "bestFeatures = fs.fit(x, y)"
   ]
  },
  {
   "cell_type": "code",
   "execution_count": 138,
   "id": "58ca02da",
   "metadata": {},
   "outputs": [
    {
     "name": "stdout",
     "output_type": "stream",
     "text": [
      "[   2.93324072    5.37567631    4.12937147   14.47243997    7.92265298\n",
      "  657.52801326 1894.2531277  1683.14549059]\n",
      "[0. 0. 0. 0. 0. 0. 0. 0.]\n"
     ]
    }
   ],
   "source": [
    "print(bestFeatures.scores_)\n",
    "print(bestFeatures.pvalues_)"
   ]
  },
  {
   "cell_type": "markdown",
   "id": "6a359bd8",
   "metadata": {},
   "source": [
    "Surprisingly, the data came out to all zeros in our P Value. This is because the closer the value is to 0, the more likely the value is to purposfully effecting our target variable, rather than just being a coincidence. \n",
    "\n",
    "This means every column in the data plays into the score of the student's math, reading, and writing scores."
   ]
  },
  {
   "cell_type": "markdown",
   "id": "665578f5",
   "metadata": {},
   "source": [
    "Question 4: Build The Prediction Model"
   ]
  },
  {
   "cell_type": "code",
   "execution_count": 142,
   "id": "9d627ade",
   "metadata": {},
   "outputs": [],
   "source": [
    "#Now it's time to build a prediction model. So far, the data is balanced due to the p values. \n",
    "\n",
    "#We're going to use Train_Test_Split. Let's get the data split into training and testing datasets."
   ]
  },
  {
   "cell_type": "code",
   "execution_count": 148,
   "id": "eac7daa5",
   "metadata": {},
   "outputs": [],
   "source": [
    "from sklearn.model_selection import train_test_split\n",
    "train_df, test_df = train_test_split(df, test_size=0.20, random_state=42)"
   ]
  },
  {
   "cell_type": "code",
   "execution_count": 149,
   "id": "38b42abc",
   "metadata": {},
   "outputs": [
    {
     "name": "stdout",
     "output_type": "stream",
     "text": [
      "Training set shape: (24512, 9)\n",
      "Testing set shape: (6129, 9)\n"
     ]
    }
   ],
   "source": [
    "print(\"Training set shape:\", train_df.shape)\n",
    "print(\"Testing set shape:\", test_df.shape)"
   ]
  },
  {
   "cell_type": "code",
   "execution_count": 157,
   "id": "c806f58f",
   "metadata": {},
   "outputs": [],
   "source": [
    "#The reason we can't use Cross Validation is because we don't have enough data in some of our categories for it."
   ]
  },
  {
   "cell_type": "markdown",
   "id": "b9045edb",
   "metadata": {},
   "source": [
    "The correct algorithm to use for this dataset would most certainly be Logistic Regression. Logistic regression is used to estimate the probability of an event occuring or not occuring. Because we're trying to figure if the factors listed play into the average score of test grades, this is a perfect job for logistic regression. \n",
    "\n",
    "Another factor is the size of our dataset. Because this one is very simple and somewhat small, linear regression wouldn't work out very well for us. The size and complexity of our model is important. Evaluating the model would be a task best left to utalize the accuracy score on the tested and predicted test data. "
   ]
  }
 ],
 "metadata": {
  "kernelspec": {
   "display_name": "Python 3 (ipykernel)",
   "language": "python",
   "name": "python3"
  },
  "language_info": {
   "codemirror_mode": {
    "name": "ipython",
    "version": 3
   },
   "file_extension": ".py",
   "mimetype": "text/x-python",
   "name": "python",
   "nbconvert_exporter": "python",
   "pygments_lexer": "ipython3",
   "version": "3.11.4"
  }
 },
 "nbformat": 4,
 "nbformat_minor": 5
}
