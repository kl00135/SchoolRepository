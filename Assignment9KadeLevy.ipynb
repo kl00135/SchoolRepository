{
 "cells": [
  {
   "cell_type": "code",
   "execution_count": 2,
   "id": "8f7f8cdb",
   "metadata": {},
   "outputs": [],
   "source": [
    "import pandas as pd\n",
    "import numpy as np\n",
    "import matplotlib.pyplot as plt\n",
    "df = pd.read_csv('Prostate_Cancer.csv')"
   ]
  },
  {
   "cell_type": "markdown",
   "id": "900d6d6a",
   "metadata": {},
   "source": [
    "Question 1"
   ]
  },
  {
   "cell_type": "markdown",
   "id": "a95ab6c0",
   "metadata": {},
   "source": [
    "1. If the question calls for k = 3, the shapes included would be one red circle, and two blue triangles. Thus, the shape is deamed to be triangle.\n",
    "\n",
    "2. If the question calls for k = 5, the shapes included would be three red circles, and two blue triangles.Thus, the shape is deamed to be circle."
   ]
  },
  {
   "cell_type": "markdown",
   "id": "8644b847",
   "metadata": {},
   "source": [
    "Question 2"
   ]
  },
  {
   "cell_type": "code",
   "execution_count": 3,
   "id": "93120d4a",
   "metadata": {},
   "outputs": [
    {
     "name": "stdout",
     "output_type": "stream",
     "text": [
      "<class 'pandas.core.frame.DataFrame'>\n",
      "RangeIndex: 100 entries, 0 to 99\n",
      "Data columns (total 10 columns):\n",
      " #   Column             Non-Null Count  Dtype  \n",
      "---  ------             --------------  -----  \n",
      " 0   id                 100 non-null    int64  \n",
      " 1   diagnosis_result   100 non-null    object \n",
      " 2   radius             100 non-null    int64  \n",
      " 3   texture            100 non-null    int64  \n",
      " 4   perimeter          100 non-null    int64  \n",
      " 5   area               100 non-null    int64  \n",
      " 6   smoothness         100 non-null    float64\n",
      " 7   compactness        100 non-null    float64\n",
      " 8   symmetry           100 non-null    float64\n",
      " 9   fractal_dimension  100 non-null    float64\n",
      "dtypes: float64(4), int64(5), object(1)\n",
      "memory usage: 7.9+ KB\n"
     ]
    }
   ],
   "source": [
    "#Checking for null values and dropping the class \"id\"\n",
    "\n",
    "df.info()"
   ]
  },
  {
   "cell_type": "code",
   "execution_count": 4,
   "id": "243d568a",
   "metadata": {},
   "outputs": [
    {
     "name": "stdout",
     "output_type": "stream",
     "text": [
      "<class 'pandas.core.frame.DataFrame'>\n",
      "RangeIndex: 100 entries, 0 to 99\n",
      "Data columns (total 9 columns):\n",
      " #   Column             Non-Null Count  Dtype  \n",
      "---  ------             --------------  -----  \n",
      " 0   diagnosis_result   100 non-null    object \n",
      " 1   radius             100 non-null    int64  \n",
      " 2   texture            100 non-null    int64  \n",
      " 3   perimeter          100 non-null    int64  \n",
      " 4   area               100 non-null    int64  \n",
      " 5   smoothness         100 non-null    float64\n",
      " 6   compactness        100 non-null    float64\n",
      " 7   symmetry           100 non-null    float64\n",
      " 8   fractal_dimension  100 non-null    float64\n",
      "dtypes: float64(4), int64(4), object(1)\n",
      "memory usage: 7.2+ KB\n"
     ]
    }
   ],
   "source": [
    "df = df.drop(['id'], axis=1)\n",
    "df = df.dropna().copy()\n",
    "df.info() #recheck"
   ]
  },
  {
   "cell_type": "markdown",
   "id": "e04a9c8d",
   "metadata": {},
   "source": [
    "Now id is gone, and all our data remains the same. It doesn't look like there are any null values. Now we need to replace diagnosis result with numerical values. Using 0's and 1's to show the status"
   ]
  },
  {
   "cell_type": "code",
   "execution_count": 6,
   "id": "10591f1e",
   "metadata": {},
   "outputs": [],
   "source": [
    "df['diagnosis_result'] = df['diagnosis_result'].replace({'M': 1, 'B': 0})"
   ]
  },
  {
   "cell_type": "code",
   "execution_count": 7,
   "id": "1e3ff0e3",
   "metadata": {},
   "outputs": [
    {
     "name": "stdout",
     "output_type": "stream",
     "text": [
      "<class 'pandas.core.frame.DataFrame'>\n",
      "RangeIndex: 100 entries, 0 to 99\n",
      "Data columns (total 9 columns):\n",
      " #   Column             Non-Null Count  Dtype  \n",
      "---  ------             --------------  -----  \n",
      " 0   diagnosis_result   100 non-null    int64  \n",
      " 1   radius             100 non-null    int64  \n",
      " 2   texture            100 non-null    int64  \n",
      " 3   perimeter          100 non-null    int64  \n",
      " 4   area               100 non-null    int64  \n",
      " 5   smoothness         100 non-null    float64\n",
      " 6   compactness        100 non-null    float64\n",
      " 7   symmetry           100 non-null    float64\n",
      " 8   fractal_dimension  100 non-null    float64\n",
      "dtypes: float64(4), int64(5)\n",
      "memory usage: 7.2 KB\n"
     ]
    }
   ],
   "source": [
    "df.info()"
   ]
  },
  {
   "cell_type": "code",
   "execution_count": 8,
   "id": "ea8af19f",
   "metadata": {
    "scrolled": true
   },
   "outputs": [
    {
     "data": {
      "text/html": [
       "<div>\n",
       "<style scoped>\n",
       "    .dataframe tbody tr th:only-of-type {\n",
       "        vertical-align: middle;\n",
       "    }\n",
       "\n",
       "    .dataframe tbody tr th {\n",
       "        vertical-align: top;\n",
       "    }\n",
       "\n",
       "    .dataframe thead th {\n",
       "        text-align: right;\n",
       "    }\n",
       "</style>\n",
       "<table border=\"1\" class=\"dataframe\">\n",
       "  <thead>\n",
       "    <tr style=\"text-align: right;\">\n",
       "      <th></th>\n",
       "      <th>diagnosis_result</th>\n",
       "      <th>radius</th>\n",
       "      <th>texture</th>\n",
       "      <th>perimeter</th>\n",
       "      <th>area</th>\n",
       "      <th>smoothness</th>\n",
       "      <th>compactness</th>\n",
       "      <th>symmetry</th>\n",
       "      <th>fractal_dimension</th>\n",
       "    </tr>\n",
       "  </thead>\n",
       "  <tbody>\n",
       "    <tr>\n",
       "      <th>0</th>\n",
       "      <td>1</td>\n",
       "      <td>23</td>\n",
       "      <td>12</td>\n",
       "      <td>151</td>\n",
       "      <td>954</td>\n",
       "      <td>0.143</td>\n",
       "      <td>0.278</td>\n",
       "      <td>0.242</td>\n",
       "      <td>0.079</td>\n",
       "    </tr>\n",
       "    <tr>\n",
       "      <th>1</th>\n",
       "      <td>0</td>\n",
       "      <td>9</td>\n",
       "      <td>13</td>\n",
       "      <td>133</td>\n",
       "      <td>1326</td>\n",
       "      <td>0.143</td>\n",
       "      <td>0.079</td>\n",
       "      <td>0.181</td>\n",
       "      <td>0.057</td>\n",
       "    </tr>\n",
       "    <tr>\n",
       "      <th>2</th>\n",
       "      <td>1</td>\n",
       "      <td>21</td>\n",
       "      <td>27</td>\n",
       "      <td>130</td>\n",
       "      <td>1203</td>\n",
       "      <td>0.125</td>\n",
       "      <td>0.160</td>\n",
       "      <td>0.207</td>\n",
       "      <td>0.060</td>\n",
       "    </tr>\n",
       "    <tr>\n",
       "      <th>3</th>\n",
       "      <td>1</td>\n",
       "      <td>14</td>\n",
       "      <td>16</td>\n",
       "      <td>78</td>\n",
       "      <td>386</td>\n",
       "      <td>0.070</td>\n",
       "      <td>0.284</td>\n",
       "      <td>0.260</td>\n",
       "      <td>0.097</td>\n",
       "    </tr>\n",
       "    <tr>\n",
       "      <th>4</th>\n",
       "      <td>1</td>\n",
       "      <td>9</td>\n",
       "      <td>19</td>\n",
       "      <td>135</td>\n",
       "      <td>1297</td>\n",
       "      <td>0.141</td>\n",
       "      <td>0.133</td>\n",
       "      <td>0.181</td>\n",
       "      <td>0.059</td>\n",
       "    </tr>\n",
       "  </tbody>\n",
       "</table>\n",
       "</div>"
      ],
      "text/plain": [
       "   diagnosis_result  radius  texture  perimeter  area  smoothness  \\\n",
       "0                 1      23       12        151   954       0.143   \n",
       "1                 0       9       13        133  1326       0.143   \n",
       "2                 1      21       27        130  1203       0.125   \n",
       "3                 1      14       16         78   386       0.070   \n",
       "4                 1       9       19        135  1297       0.141   \n",
       "\n",
       "   compactness  symmetry  fractal_dimension  \n",
       "0        0.278     0.242              0.079  \n",
       "1        0.079     0.181              0.057  \n",
       "2        0.160     0.207              0.060  \n",
       "3        0.284     0.260              0.097  \n",
       "4        0.133     0.181              0.059  "
      ]
     },
     "execution_count": 8,
     "metadata": {},
     "output_type": "execute_result"
    }
   ],
   "source": [
    "df.head()"
   ]
  },
  {
   "cell_type": "markdown",
   "id": "3bfed36f",
   "metadata": {},
   "source": [
    "Looks like it worked, now diagnosis result has 0's and 1's to represent the different result status."
   ]
  },
  {
   "cell_type": "markdown",
   "id": "f2d1796a",
   "metadata": {},
   "source": [
    "Question 3"
   ]
  },
  {
   "cell_type": "markdown",
   "id": "87fb81e2",
   "metadata": {},
   "source": [
    "#Now we are to check the relationships between the target variable and it's features. All of our data is numeric so we shouldn't have to excluse any data."
   ]
  },
  {
   "cell_type": "code",
   "execution_count": 15,
   "id": "038595eb",
   "metadata": {},
   "outputs": [
    {
     "data": {
      "image/png": "[encoded data removed]",
      "text/plain": [
       "<Figure size 1200x800 with 8 Axes>"
      ]
     },
     "metadata": {},
     "output_type": "display_data"
    }
   ],
   "source": [
    "import seaborn as sns\n",
    "\n",
    "num_list = ['radius', 'texture', 'perimeter', 'area', 'smoothness', 'compactness', 'symmetry', 'fractal_dimension']\n",
    "plt.figure(figsize = (12, 8))\n",
    "\n",
    "for column in num_list:\n",
    "    plt.subplot(2, 4, num_list.index(column) + 1)\n",
    "    sns.boxplot(x = 'diagnosis_result', y = column, data = df)\n",
    "\n",
    "plt.tight_layout()\n",
    "plt.show()\n"
   ]
  },
  {
   "cell_type": "code",
   "execution_count": 17,
   "id": "1f9954bd",
   "metadata": {},
   "outputs": [
    {
     "name": "stdout",
     "output_type": "stream",
     "text": [
      "<class 'pandas.core.frame.DataFrame'>\n",
      "RangeIndex: 100 entries, 0 to 99\n",
      "Data columns (total 4 columns):\n",
      " #   Column            Non-Null Count  Dtype  \n",
      "---  ------            --------------  -----  \n",
      " 0   diagnosis_result  100 non-null    int64  \n",
      " 1   perimeter         100 non-null    int64  \n",
      " 2   area              100 non-null    int64  \n",
      " 3   compactness       100 non-null    float64\n",
      "dtypes: float64(1), int64(3)\n",
      "memory usage: 3.3 KB\n"
     ]
    }
   ],
   "source": [
    "#We drop the overlapping boxes as they don't show a signifigant difference.\n",
    "df = df.drop(['radius', 'smoothness', 'texture', 'symmetry', 'fractal_dimension'], axis=1)\n",
    "df = df.dropna().copy()\n",
    "df.info() #recheck"
   ]
  },
  {
   "cell_type": "markdown",
   "id": "aff34e6d",
   "metadata": {},
   "source": [
    "Question 4"
   ]
  },
  {
   "cell_type": "code",
   "execution_count": 21,
   "id": "3f9759b2",
   "metadata": {},
   "outputs": [
    {
     "name": "stdout",
     "output_type": "stream",
     "text": [
      "                  diagnosis_result  perimeter      area  compactness\n",
      "diagnosis_result          1.000000   0.607498  0.562444     0.512234\n",
      "perimeter                 0.607498   1.000000  0.976648     0.527542\n",
      "area                      0.562444   0.976648  1.000000     0.424950\n",
      "compactness               0.512234   0.527542  0.424950     1.000000\n"
     ]
    }
   ],
   "source": [
    "print(df.corr())"
   ]
  },
  {
   "cell_type": "code",
   "execution_count": 22,
   "id": "76a087e7",
   "metadata": {},
   "outputs": [
    {
     "name": "stdout",
     "output_type": "stream",
     "text": [
      "<class 'pandas.core.frame.DataFrame'>\n",
      "RangeIndex: 100 entries, 0 to 99\n",
      "Data columns (total 2 columns):\n",
      " #   Column            Non-Null Count  Dtype  \n",
      "---  ------            --------------  -----  \n",
      " 0   diagnosis_result  100 non-null    int64  \n",
      " 1   compactness       100 non-null    float64\n",
      "dtypes: float64(1), int64(1)\n",
      "memory usage: 1.7 KB\n"
     ]
    }
   ],
   "source": [
    "#Perimeter and Area both have numbers that are very close to 1. So we will drop them.\n",
    "df = df.drop(['perimeter', 'area'], axis=1)\n",
    "df = df.dropna().copy()\n",
    "df.info() #recheck"
   ]
  },
  {
   "cell_type": "markdown",
   "id": "778c9c26",
   "metadata": {},
   "source": [
    "Question 5"
   ]
  },
  {
   "cell_type": "markdown",
   "id": "311a4a03",
   "metadata": {},
   "source": [
    "KNN compares the distance of an object to relative points around it. Because KNN is a distance based measurement, it's entirely possible the points of the comparison may have totally different scales. Feature Scaling sets everything to a normalized rate. Making sure everything is relatively simmilar in nature. You can set up a min-max scale to have it so there's a limit on what the data points can be between. Or use Z-score to work with a simple 0 mean and 1 standard definition. "
   ]
  },
  {
   "cell_type": "markdown",
   "id": "822ce361",
   "metadata": {},
   "source": [
    "Question 6"
   ]
  },
  {
   "cell_type": "code",
   "execution_count": 24,
   "id": "a52e0e84",
   "metadata": {},
   "outputs": [
    {
     "name": "stdout",
     "output_type": "stream",
     "text": [
      "Average Accuracy Score (k=3): 0.80\n"
     ]
    }
   ],
   "source": [
    "from sklearn.model_selection import KFold, cross_val_score\n",
    "from sklearn.neighbors import KNeighborsClassifier\n",
    "\n",
    "#Initialize a KNN classifier with k=3\n",
    "knn = KNeighborsClassifier(n_neighbors=3)"
   ]
  },
  {
   "cell_type": "code",
   "execution_count": 25,
   "id": "b697f2fa",
   "metadata": {},
   "outputs": [
    {
     "name": "stdout",
     "output_type": "stream",
     "text": [
      "Average Accuracy Score (k=3): 0.80\n"
     ]
    }
   ],
   "source": [
    "#Next we ceate the ten fold cross\n",
    "kf = KFold(n_splits=10, shuffle=True, random_state=42)\n",
    "\n",
    "scores = cross_val_score(knn, X, y, cv=kf, scoring='accuracy')"
   ]
  },
  {
   "cell_type": "code",
   "execution_count": 28,
   "id": "7d540e67",
   "metadata": {},
   "outputs": [
    {
     "name": "stdout",
     "output_type": "stream",
     "text": [
      "Average: \n",
      "0.8\n"
     ]
    }
   ],
   "source": [
    "#Average accuracy score takes the mean of the scores\n",
    "average_accuracy = np.mean(scores)\n",
    "\n",
    "print(\"Average: \")\n",
    "print(average_accuracy)\n"
   ]
  },
  {
   "cell_type": "markdown",
   "id": "86fe092a",
   "metadata": {},
   "source": [
    "Question 7"
   ]
  },
  {
   "cell_type": "markdown",
   "id": "79c6254b",
   "metadata": {},
   "source": [
    "#We're going to set up K values to eb odd numbers. The reason it needs to be odd numbers instead of even, is because in a two class problem, you might accidently tie the data, which would give us a non-conclusive result."
   ]
  },
  {
   "cell_type": "code",
   "execution_count": 29,
   "id": "304d0250",
   "metadata": {},
   "outputs": [],
   "source": [
    "k_values = list(range(1, 16))"
   ]
  },
  {
   "cell_type": "markdown",
   "id": "beed1151",
   "metadata": {},
   "source": [
    "Question 8"
   ]
  },
  {
   "cell_type": "code",
   "execution_count": 33,
   "id": "165ff6b8",
   "metadata": {},
   "outputs": [],
   "source": [
    "#Here we make a directory for the future to input the accuracy scores. We can use the same ten fold as initialized before.\n",
    "average_accuracy_scores = {}\n",
    "\n",
    "#Get the average for each value here.\n",
    "for k in k_values:\n",
    "    knn = KNeighborsClassifier(n_neighbors=k)\n",
    "    scores = cross_val_score(knn, X, y, cv=kf, scoring='accuracy')\n",
    "    average_accuracy = np.mean(scores)\n",
    "    average_accuracy_scores[k] = average_accuracy"
   ]
  },
  {
   "cell_type": "code",
   "execution_count": 34,
   "id": "0c334383",
   "metadata": {},
   "outputs": [
    {
     "name": "stdout",
     "output_type": "stream",
     "text": [
      "Best K:\n",
      "6\n",
      "Average Accuracy Score for Best k: \n",
      "0.8600000000000001\n"
     ]
    }
   ],
   "source": [
    "best_k = max(average_accuracy_scores, key=average_accuracy_scores.get)\n",
    "best_accuracy = average_accuracy_scores[best_k]\n",
    "\n",
    "print(\"Best K:\")\n",
    "print(best_k)\n",
    "print(\"Average Accuracy Score for Best k: \")\n",
    "print(best_accuracy)\n"
   ]
  },
  {
   "cell_type": "markdown",
   "id": "8d90e940",
   "metadata": {},
   "source": [
    "Question 9"
   ]
  },
  {
   "cell_type": "code",
   "execution_count": 36,
   "id": "8b43cafd",
   "metadata": {},
   "outputs": [],
   "source": [
    "#Now we're going to change the method we score with cross validation to f1. We'll set it up just like last time.\n",
    "\n",
    "k_values = list(range(1, 16))\n",
    "average_f1_scores = {}\n",
    "kf = KFold(n_splits=10, shuffle=True, random_state=42)\n",
    "\n",
    "#In the loop, we'll get the average F1 score.\n",
    "for k in k_values:\n",
    "    knn = KNeighborsClassifier(n_neighbors=k)\n",
    "    scores = cross_val_score(knn, X, y, cv=kf, scoring='f1_macro')\n",
    "    average_f1 = np.mean(scores)\n",
    "    average_f1_scores[k] = average_f1"
   ]
  },
  {
   "cell_type": "code",
   "execution_count": 40,
   "id": "87a4b324",
   "metadata": {},
   "outputs": [
    {
     "name": "stdout",
     "output_type": "stream",
     "text": [
      "Best K:\n",
      "6\n",
      "Average Accuracy Score for Best k: \n",
      "0.7954083906289788\n"
     ]
    }
   ],
   "source": [
    "best_k_f1 = max(average_f1_scores, key=average_f1_scores.get)\n",
    "best_f1_score = average_f1_scores[best_k_f1]\n",
    "\n",
    "print(\"Best K:\")\n",
    "print(best_k_f1)\n",
    "print(\"Average Accuracy Score for Best k: \")\n",
    "print(best_f1_score)"
   ]
  },
  {
   "cell_type": "markdown",
   "id": "b918d868",
   "metadata": {},
   "source": [
    "THIS IS AN INDIVIDUAL ASSIGNMENT. YOU MAY NOT DISCUSS THIS ASSIGNMENT WITH ANYONE WITHIN OR OUTSIDE THE CLASS (except the instructor) DO not discuss your approaches or your code with colleagues. There are many ways to implement this assignment, and it is extremely easy to spot code that has been inspired by someone else’s code and to identify unauthorized collaborations.If you choose to utilize something you find online, cite that resource, but DO NOT share that resource with anyone else.By submitting this assignment, you certify that no unauthorized assistance has been received or given in the completion of this work. Kade Levy"
   ]
  }
 ],
 "metadata": {
  "kernelspec": {
   "display_name": "Python 3 (ipykernel)",
   "language": "python",
   "name": "python3"
  },
  "language_info": {
   "codemirror_mode": {
    "name": "ipython",
    "version": 3
   },
   "file_extension": ".py",
   "mimetype": "text/x-python",
   "name": "python",
   "nbconvert_exporter": "python",
   "pygments_lexer": "ipython3",
   "version": "3.11.4"
  }
 },
 "nbformat": 4,
 "nbformat_minor": 5
}
