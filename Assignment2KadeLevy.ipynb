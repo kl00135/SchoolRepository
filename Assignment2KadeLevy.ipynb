{
 "cells": [
  {
   "cell_type": "code",
   "execution_count": 1,
   "id": "92d0c7b4",
   "metadata": {},
   "outputs": [
    {
     "name": "stdout",
     "output_type": "stream",
     "text": [
      "Question 1\n"
     ]
    }
   ],
   "source": [
    "print(\"Question 1\")"
   ]
  },
  {
   "cell_type": "code",
   "execution_count": 3,
   "id": "7cfe678a",
   "metadata": {},
   "outputs": [],
   "source": [
    "L = [\"apple\", \"raspberry\", \"grapefruit\", \"grape\", \"kiwi\", \"pear\"]"
   ]
  },
  {
   "cell_type": "code",
   "execution_count": 4,
   "id": "569f67a3",
   "metadata": {},
   "outputs": [],
   "source": [
    "L.sort()"
   ]
  },
  {
   "cell_type": "code",
   "execution_count": 7,
   "id": "e9d3493a",
   "metadata": {},
   "outputs": [
    {
     "name": "stdout",
     "output_type": "stream",
     "text": [
      "Last two items:  ['pear', 'raspberry']\n"
     ]
    }
   ],
   "source": [
    "print(\"Last two items: \", L[-2:])"
   ]
  },
  {
   "cell_type": "code",
   "execution_count": 8,
   "id": "29af055f",
   "metadata": {},
   "outputs": [
    {
     "name": "stdout",
     "output_type": "stream",
     "text": [
      "Question 2\n"
     ]
    }
   ],
   "source": [
    "print(\"Question 2\")"
   ]
  },
  {
   "cell_type": "code",
   "execution_count": 11,
   "id": "d16d75e6",
   "metadata": {},
   "outputs": [],
   "source": [
    "city_dictionary = {\n",
    "    \"Carrollton\": {\"zip_code\": \"75006\", \"population\": 2134},\n",
    "    \"Newnan\": {\"zip_code\": \"10001\", \"population\": 4785},\n",
    "    \"Douglasville\": {\"zip_code\": \"90001\", \"population\": 3001}}"
   ]
  },
  {
   "cell_type": "code",
   "execution_count": 13,
   "id": "9e4bc73e",
   "metadata": {},
   "outputs": [],
   "source": [
    "carrollton_zip_code = city_dictionary[\"Carrollton\"][\"zip_code\"]"
   ]
  },
  {
   "cell_type": "code",
   "execution_count": 14,
   "id": "c534198e",
   "metadata": {},
   "outputs": [
    {
     "name": "stdout",
     "output_type": "stream",
     "text": [
      "Carrollton's Zip Code: 75006\n"
     ]
    }
   ],
   "source": [
    "print(\"Carrollton's Zip Code:\", carrollton_zip_code)"
   ]
  },
  {
   "cell_type": "code",
   "execution_count": 15,
   "id": "f4c5d775",
   "metadata": {},
   "outputs": [
    {
     "name": "stdout",
     "output_type": "stream",
     "text": [
      "Question 3\n"
     ]
    }
   ],
   "source": [
    "print(\"Question 3\")"
   ]
  },
  {
   "cell_type": "code",
   "execution_count": 16,
   "id": "a769f0bf",
   "metadata": {},
   "outputs": [],
   "source": [
    "size_of_house = 2000\n"
   ]
  },
  {
   "cell_type": "code",
   "execution_count": 17,
   "id": "99570bb4",
   "metadata": {},
   "outputs": [],
   "source": [
    "under_1000_size_price = 100000\n",
    "between_1000_and_3000_size_price = 150000\n",
    "over_3000_size_price = 400000"
   ]
  },
  {
   "cell_type": "code",
   "execution_count": 18,
   "id": "aec2fc1c",
   "metadata": {},
   "outputs": [],
   "source": [
    "if size_of_house < 1000:\n",
    "    suggested_price = under_1000_size_price\n",
    "elif size_of_house >= 1000 and size_of_house <= 3000:\n",
    "    suggested_price = between_1000_and_3000_size_price\n",
    "else:\n",
    "    suggested_price = over_3000_size_price"
   ]
  },
  {
   "cell_type": "code",
   "execution_count": 20,
   "id": "6dce61da",
   "metadata": {},
   "outputs": [
    {
     "name": "stdout",
     "output_type": "stream",
     "text": [
      "If the size of the house is  {2000} sq. ft, the suggested price is $ {150000}\n"
     ]
    }
   ],
   "source": [
    "print(\"If the size of the house is \", {size_of_house} ,\"sq. ft, the suggested price is $\",{suggested_price})"
   ]
  },
  {
   "cell_type": "code",
   "execution_count": 28,
   "id": "46fa21f4",
   "metadata": {},
   "outputs": [],
   "source": [
    "size_of_house = 999\n",
    "if size_of_house < 1000:\n",
    "    suggested_price = under_1000_size_price\n",
    "elif size_of_house >= 1000 and size_of_house <= 3000:\n",
    "    suggested_price = between_1000_and_3000_size_price\n",
    "else:\n",
    "    suggested_price = over_3000_size_price"
   ]
  },
  {
   "cell_type": "code",
   "execution_count": 29,
   "id": "d3101fa5",
   "metadata": {},
   "outputs": [
    {
     "name": "stdout",
     "output_type": "stream",
     "text": [
      "If the size of the house is  {999} sq. ft, the suggested price is $ {100000}\n"
     ]
    }
   ],
   "source": [
    "print(\"If the size of the house is \", {size_of_house} ,\"sq. ft, the suggested price is $\",{suggested_price})"
   ]
  },
  {
   "cell_type": "code",
   "execution_count": 30,
   "id": "2d7cddeb",
   "metadata": {},
   "outputs": [],
   "source": [
    "size_of_house = 676857686\n",
    "if size_of_house < 1000:\n",
    "    suggested_price = under_1000_size_price\n",
    "elif size_of_house >= 1000 and size_of_house <= 3000:\n",
    "    suggested_price = between_1000_and_3000_size_price\n",
    "else:\n",
    "    suggested_price = over_3000_size_price"
   ]
  },
  {
   "cell_type": "code",
   "execution_count": 31,
   "id": "39260dd7",
   "metadata": {},
   "outputs": [
    {
     "name": "stdout",
     "output_type": "stream",
     "text": [
      "If the size of the house is  {676857686} sq. ft, the suggested price is $ {400000}\n"
     ]
    }
   ],
   "source": [
    "print(\"If the size of the house is \", {size_of_house} ,\"sq. ft, the suggested price is $\",{suggested_price})"
   ]
  },
  {
   "cell_type": "code",
   "execution_count": 32,
   "id": "f1af306f",
   "metadata": {},
   "outputs": [
    {
     "name": "stdout",
     "output_type": "stream",
     "text": [
      "Question 4\n"
     ]
    }
   ],
   "source": [
    "print(\"Question 4\")"
   ]
  },
  {
   "cell_type": "code",
   "execution_count": 39,
   "id": "6388eda3",
   "metadata": {},
   "outputs": [
    {
     "name": "stdout",
     "output_type": "stream",
     "text": [
      "3\n",
      "6\n",
      "9\n",
      "12\n",
      "15\n",
      "18\n",
      "21\n",
      "24\n",
      "27\n",
      "30\n",
      "33\n",
      "36\n",
      "39\n"
     ]
    }
   ],
   "source": [
    "for number in range(3, 40, 3): print(number)"
   ]
  },
  {
   "cell_type": "code",
   "execution_count": 40,
   "id": "508a57e0",
   "metadata": {},
   "outputs": [
    {
     "name": "stdout",
     "output_type": "stream",
     "text": [
      "Question 5\n"
     ]
    }
   ],
   "source": [
    "print(\"Question 5\")"
   ]
  },
  {
   "cell_type": "code",
   "execution_count": null,
   "id": "8bde26f0",
   "metadata": {},
   "outputs": [],
   "source": [
    "def question_5_math(x, n):\n",
    "    if n > 0 and n < 8 and x > 0:\n",
    "        answer1 = x * n\n",
    "        answer2 = x ** n\n",
    "        return answer1, answer2\n",
    "    else:\n",
    "        return None\n",
    "    "
   ]
  },
  {
   "cell_type": "markdown",
   "id": "7145f049",
   "metadata": {},
   "source": [
    "answer 1 and answer 2 are set to \"x multiplied by n\" and \"x to the power of n\" respectively. Then, the values are returned. In the next cell, x is set to 9, and n is set to 6. They are placed in their specific values, and the math is done, giving us the answers of \"54\" and \"531441\"."
   ]
  },
  {
   "cell_type": "code",
   "execution_count": 76,
   "id": "c3f36805",
   "metadata": {},
   "outputs": [
    {
     "name": "stdout",
     "output_type": "stream",
     "text": [
      "54 , 531441\n"
     ]
    }
   ],
   "source": [
    "x = 9\n",
    "n = 6\n",
    "print(answer1, \",\", answer2)"
   ]
  },
  {
   "cell_type": "code",
   "execution_count": 77,
   "id": "4f96845f",
   "metadata": {},
   "outputs": [
    {
     "name": "stdout",
     "output_type": "stream",
     "text": [
      "question 6\n"
     ]
    }
   ],
   "source": [
    "print(\"question 6\")"
   ]
  },
  {
   "cell_type": "code",
   "execution_count": 81,
   "id": "b1283111",
   "metadata": {},
   "outputs": [],
   "source": [
    "class Circle:\n",
    "    def __init__(self, radius):\n",
    "        self.radius = radius\n",
    "    \n",
    "    def calculate_area(self):\n",
    "        area = 3.14159 * (self.radius ** 2)\n",
    "        return area\n",
    "    \n",
    "    def calculate_parameter(self):\n",
    "        parameter = 2 * 3.14159 * self.radius\n",
    "        return parameter\n"
   ]
  },
  {
   "cell_type": "code",
   "execution_count": 82,
   "id": "f9275c53",
   "metadata": {},
   "outputs": [],
   "source": [
    "circle_instance = Circle(5)"
   ]
  },
  {
   "cell_type": "code",
   "execution_count": 83,
   "id": "7c787ffe",
   "metadata": {},
   "outputs": [],
   "source": [
    "area = circle_instance.calculate_area()\n",
    "parameter = circle_instance.calculate_parameter()"
   ]
  },
  {
   "cell_type": "code",
   "execution_count": 92,
   "id": "96307784",
   "metadata": {
    "scrolled": true
   },
   "outputs": [
    {
     "name": "stdout",
     "output_type": "stream",
     "text": [
      "Circle with radius  5\n",
      "Area:  78.53975\n",
      "Parameter:  31.4159\n"
     ]
    }
   ],
   "source": [
    "print(f\"Circle with radius \", circle_instance.radius)\n",
    "print(f\"Area: \", area)\n",
    "print(f\"Parameter: \", parameter)"
   ]
  },
  {
   "cell_type": "code",
   "execution_count": 94,
   "id": "9db0b322",
   "metadata": {},
   "outputs": [
    {
     "name": "stdout",
     "output_type": "stream",
     "text": [
      "question 7\n"
     ]
    }
   ],
   "source": [
    "print(\"question 7\")"
   ]
  },
  {
   "cell_type": "code",
   "execution_count": 95,
   "id": "665e3ffb",
   "metadata": {},
   "outputs": [],
   "source": [
    "dictionary_of_fruit = {\n",
    "    \"apple\": 3,\n",
    "    \"banana\": 5,\n",
    "    \"orange\": 2,\n",
    "    \"grape\": 7\n",
    "}"
   ]
  },
  {
   "cell_type": "code",
   "execution_count": 103,
   "id": "42eb7dfc",
   "metadata": {},
   "outputs": [],
   "source": [
    "while dictionary_of_fruit:\n",
    "    key, value = dictionary_of_fruit.popitem()\n",
    "    print(f\"Popped: {key}: {value}\")"
   ]
  },
  {
   "cell_type": "code",
   "execution_count": 106,
   "id": "c3b077be",
   "metadata": {},
   "outputs": [
    {
     "name": "stdout",
     "output_type": "stream",
     "text": [
      "Empty Dictionary: {}\n"
     ]
    }
   ],
   "source": [
    "print(\"Empty Dictionary:\", dictionary_of_fruit)"
   ]
  },
  {
   "cell_type": "code",
   "execution_count": 110,
   "id": "7fb7901e",
   "metadata": {},
   "outputs": [
    {
     "name": "stdout",
     "output_type": "stream",
     "text": [
      "THIS IS AN INDIVIDUAL ASSIGNMENT. YOU MAY NOT DISCUSS THIS ASSIGNMENT WITH ANYONE WITHIN OR OUTSIDE THE CLASS (except the instructor) DO not discuss your approaches or your code with colleagues. There are many ways to implement this assignment, and it is extremely easy to spot code that has been inspired by someone else’s code and to identify unauthorized collaborations.If you choose to utilize something you find online, cite that resource, but DO NOT share that resource with anyone else.By submitting this assignment, you certify that no unauthorized assistance has been received or given in the completion of this work. Kade Levy\n"
     ]
    }
   ],
   "source": [
    "print(\"THIS IS AN INDIVIDUAL ASSIGNMENT. YOU MAY NOT DISCUSS THIS ASSIGNMENT WITH ANYONE WITHIN OR OUTSIDE THE CLASS (except the instructor) DO not discuss your approaches or your code with colleagues. There are many ways to implement this assignment, and it is extremely easy to spot code that has been inspired by someone else’s code and to identify unauthorized collaborations.If you choose to utilize something you find online, cite that resource, but DO NOT share that resource with anyone else.By submitting this assignment, you certify that no unauthorized assistance has been received or given in the completion of this work. Kade Levy\")"
   ]
  },
  {
   "cell_type": "code",
   "execution_count": 111,
   "id": "43bf16c4",
   "metadata": {},
   "outputs": [
    {
     "name": "stdout",
     "output_type": "stream",
     "text": [
      "All information found infered from notes provided, or this tutorial website https://www.dataquest.io/blog/jupyter-notebook-tutorial/\n"
     ]
    }
   ],
   "source": [
    "print(\"All information found infered from notes provided, or this tutorial website https://www.dataquest.io/blog/jupyter-notebook-tutorial/\")"
   ]
  },
  {
   "cell_type": "code",
   "execution_count": null,
   "id": "ff5ace3a",
   "metadata": {},
   "outputs": [],
   "source": []
  }
 ],
 "metadata": {
  "kernelspec": {
   "display_name": "Python 3 (ipykernel)",
   "language": "python",
   "name": "python3"
  },
  "language_info": {
   "codemirror_mode": {
    "name": "ipython",
    "version": 3
   },
   "file_extension": ".py",
   "mimetype": "text/x-python",
   "name": "python",
   "nbconvert_exporter": "python",
   "pygments_lexer": "ipython3",
   "version": "3.11.4"
  }
 },
 "nbformat": 4,
 "nbformat_minor": 5
}
